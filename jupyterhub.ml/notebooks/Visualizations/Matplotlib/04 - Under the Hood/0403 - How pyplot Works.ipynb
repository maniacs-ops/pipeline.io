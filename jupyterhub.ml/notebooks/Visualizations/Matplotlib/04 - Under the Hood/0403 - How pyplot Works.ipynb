{
 "cells": [
  {
   "cell_type": "markdown",
   "metadata": {},
   "source": [
    "## Introduction\n",
    "\n",
    "In the previous section, we learned all about plotting with matplotlib using the `pyplot` interface. And, in the last two lessons of this section, we took a deeper look at the architecture of matplotlib and the components that make up a typical plot. In this lesson, we'll go even deeper, and put what we've learned to the test by tracing the steps that the `pyplot` interface goes through \"behind the scenes\". \n",
    "\n",
    "Now, before we can get started, we have a little bit of setup that we need to do to make everything as clear as possible, so let's go ahead and jump right in and get started."
   ]
  },
  {
   "cell_type": "code",
   "execution_count": 1,
   "metadata": {
    "collapsed": false
   },
   "outputs": [],
   "source": [
    "%matplotlib inline\n",
    "\n",
    "import matplotlib.pyplot as plt\n",
    "import numpy as np"
   ]
  },
  {
   "cell_type": "markdown",
   "metadata": {},
   "source": [
    "## Setup\n",
    "\n",
    "One of the differences between this lesson and those of the previous section, is that in this lesson, we want to be in complete control over when our plots are rendered. So, our first step will be to turn off interactive mode."
   ]
  },
  {
   "cell_type": "code",
   "execution_count": 2,
   "metadata": {
    "collapsed": false
   },
   "outputs": [],
   "source": [
    "# Turn off interactive mode, so we have full control\n",
    "# over when our plots are displayed.\n",
    "plt.ioff()"
   ]
  },
  {
   "cell_type": "markdown",
   "metadata": {},
   "source": [
    "Next, rather than displaying our plots inline, in this lesson, for reasons we'll cover later, we'll be saving each figure to a file instead. To do so, we'll need a directory in which to save our plots, and the bash code below creates that directory for us. \n",
    "\n",
    "One thing I'd like to point out here is that the directory that we're creating resides within the `/tmp` directory. So, if you happen to be following along on a Windows machine, or if you just don't have the right permissions to modify the `/tmp` directory, you'll want to change the `tmpdir` variable on line 3 below before running the code in the next cell."
   ]
  },
  {
   "cell_type": "code",
   "execution_count": 3,
   "metadata": {
    "collapsed": false
   },
   "outputs": [],
   "source": [
    "%%bash --out tmpdir\n",
    "\n",
    "tmpdir=\"/tmp/mpl\"\n",
    "if [ -d \"$tmpdir\" ]\n",
    "then \n",
    "    rm -rf \"$tmpdir\"\n",
    "fi\n",
    "mkdir \"$tmpdir\"\n",
    "\n",
    "echo -n \"$tmpdir\""
   ]
  },
  {
   "cell_type": "markdown",
   "metadata": {},
   "source": [
    "## Helper Functions\n",
    "\n",
    "In the next few cells we'll be creating a few helper functions that we'll use throughout the rest of this lesson. Now, if you don't have a ton of experience with python, you may be looking at the code below and thinking to yourself \"What do you mean functions? All I see are a handful of classes!\" Well, you're right, at least partially. \n",
    "\n",
    "### Callable Objects\n",
    "\n",
    "You'll notice in each of the classes below we've implemented this weird looking method (`__call__`) with leading and trailing underscores. This type of method is what pythonistas call a magic method, and they're usually pronounced \"dunder <method_name>\", so in our case, the method in question is called \"dunder call\". Implementing this method, allows instances of a class to be called just like a function. The really nice thing about this feature is that these callable objects have state that can change, as well as change the behavior of the function, with every call. This is nice because it allows us to setup some variables that are used, and altered, by the function without making those variables global.\n",
    "\n",
    "For example, the first class below, `FilenameGenerator`, takes two variables when it's created: a base directory, which will be the temp directory we created in the last step, and a filename extension. It will then use these two variables, along with a third, to generate a filename every time it's called. \n",
    "\n",
    "Now, in order to save each consecutive figure without overwriting the previous one, the filenames that our function generates should be unique. In addition, we also want to display the figures we saved in the order in which we saved them, so we'll need the filenames to be sortable as well. To solve both requirements, we have a third variable, called `fignum`, that contains an integer value that's incremented with every call to our function. To create a unique and sortable filename, we simply append its value to the end.\n",
    "\n",
    "If we were to try and do this without a callable object, we would either need to create the `fignum` variable as a global variable, or use a closure to prevent the variable from leaking into the global space. The first approach, using a global variable, is just bad practice for so many reasons, and with respect to the second option, I personally feel that callable objects are a little easier to understand than closures, and a bit cleaner as well. "
   ]
  },
  {
   "cell_type": "code",
   "execution_count": 4,
   "metadata": {
    "collapsed": true
   },
   "outputs": [],
   "source": [
    "class FilenameGenerator(object):\n",
    "    \"\"\"A generator for creating unique filenames.\n",
    "    \"\"\"\n",
    "    def __init__(self, basedir, ext):\n",
    "        self.basedir = basedir\n",
    "        self.ext = ext\n",
    "        self.fignum = 0\n",
    "    def __call__(self):\n",
    "        self.fignum += 1\n",
    "        return '%s/fig_%02d.%s' % (self.basedir, self.fignum, self.ext)\n",
    "generate_filename = FilenameGenerator(tmpdir, 'png')"
   ]
  },
  {
   "cell_type": "markdown",
   "metadata": {},
   "source": [
    "The next helper function, or more accurately, callable object, is a simple print function that takes a message and prints it with a leading line number. To do this, we'll need a variable that we can increment every time our function is called. On line 3 below, you can see that we've created and initialized that variable, and on line 6, you can see where we're incrementing it every time our function is called. We've also added a simple `reset` function on lines 7 and 8 that we can use to start the numbering over whenever we want. "
   ]
  },
  {
   "cell_type": "code",
   "execution_count": 5,
   "metadata": {
    "collapsed": false
   },
   "outputs": [],
   "source": [
    "class PrintlnFunc(object):\n",
    "    def __init__(self):\n",
    "        self.line = 1\n",
    "    def __call__(self, msg):\n",
    "        print \"%2d. %s\" % (self.line, msg)\n",
    "        self.line += 1\n",
    "    def reset(self):\n",
    "        self.line = 1\n",
    "println = PrintlnFunc()"
   ]
  },
  {
   "cell_type": "markdown",
   "metadata": {},
   "source": [
    "Finally, the next callable object is a decorator that adds some simple logging to a function. When called, it will print out a bit of information on the function it's decorating before and after calling that function. We'll use this callable object to decorate several functions in the matplotlib library so we can trace the set of function calls that are made every time we call a function from the `pyplot` interface. Now, the reason we're using a callable object here instead of a simple function, is because we need a variable to keep track of the depth of the call stack, so we can make our logging information a little more readable by indenting the logging info according to the current call stack depth."
   ]
  },
  {
   "cell_type": "code",
   "execution_count": 6,
   "metadata": {
    "collapsed": true
   },
   "outputs": [],
   "source": [
    "class Logger(object):\n",
    "    \"\"\"Wraps a function in a callable that prints call information\n",
    "    \"\"\"\n",
    "    level = 0\n",
    "\n",
    "    def __init__(self, fn):\n",
    "        self.fn = fn\n",
    "\n",
    "    def __call__(self, *args, **kwargs):\n",
    "        # Create the padding string according to the current level in the call\n",
    "        # stack, and increase the level since we're about to pop another \n",
    "        # function onto the stack.\n",
    "        padding = \"|\" + \"-\" * (Logger.level * 4 - 1) if Logger.level > 0 else \"\"\n",
    "        Logger.level += 1\n",
    "\n",
    "        # Print calling information, call the function, and print returning info\n",
    "        println(\"%sCalling %s.%s\" % (padding, self.fn.__module__, self.fn.__name__))\n",
    "        result = self.fn(*args, **kwargs)\n",
    "        println(\"%sReturning <%s:%s> from %s.%s\" % \\\n",
    "            (padding, result.__class__.__name__, id(result), self.fn.__module__, self.fn.__name__))\n",
    "\n",
    "        # Decrease the call stack level, since we are returning.\n",
    "        Logger.level -= 1\n",
    "        return result"
   ]
  },
  {
   "cell_type": "markdown",
   "metadata": {},
   "source": [
    "## Exploring the `pyplot` Call Stack\n",
    "\n",
    "So, now that we have a bunch of helper functions setup and ready to be used, we're ready to start exploring how `pyplot` works. First, we'll use the `Logger` class that we created in the last cell to decorate several functions on the `pyplot` module."
   ]
  },
  {
   "cell_type": "code",
   "execution_count": 7,
   "metadata": {
    "collapsed": true
   },
   "outputs": [],
   "source": [
    "# Decorate several methods with the logger\n",
    "plt.gca = Logger(plt.gca)\n",
    "plt.gcf = Logger(plt.gcf)\n",
    "plt.figure = Logger(plt.figure)\n",
    "plt.close = Logger(plt.close)"
   ]
  },
  {
   "cell_type": "markdown",
   "metadata": {},
   "source": [
    "We also want to decorate a few methods on the `Figure` and `Axes` classes, especially the `__init__` functions so we can see when a new instance of class each is being created, but decorating a function attached to a class is a bit different from decorating a normal function. To make this possible, we'll have to use the `types.MethodType` class to wrap our `Logger` object. Other than that, the code below is pretty much identical to the last bit."
   ]
  },
  {
   "cell_type": "code",
   "execution_count": 8,
   "metadata": {
    "collapsed": true
   },
   "outputs": [],
   "source": [
    "# To decorate the methods on the Figure class, we have to wrap \n",
    "# our logger in a MethodType instance.\n",
    "import types\n",
    "\n",
    "# Logging the calls for which the pyplot functions are simple\n",
    "# proxies. Specifically, the add_subplot and __init__ methods\n",
    "# are interesting because the allow us to see when new objects\n",
    "# are being created.\n",
    "from matplotlib.figure import Figure\n",
    "from matplotlib.axes import Axes\n",
    "Figure.gca = types.MethodType(Logger(Figure.gca), None, Figure)\n",
    "Figure.add_subplot = types.MethodType(Logger(Figure.add_subplot), None, Figure)\n",
    "Figure.__init__ = types.MethodType(Logger(Figure.__init__), None, Figure)\n",
    "Axes.__init__ = types.MethodType(Logger(Axes.__init__), None, Axes)"
   ]
  },
  {
   "cell_type": "markdown",
   "metadata": {},
   "source": [
    "So, now we have everything set up to make it possible to trace all the work that the `pyplot` interface is doing on our behalf whenever we call a simple plotting function. The only thing left to do is to actually plot something."
   ]
  },
  {
   "cell_type": "code",
   "execution_count": 9,
   "metadata": {
    "collapsed": false
   },
   "outputs": [
    {
     "name": "stdout",
     "output_type": "stream",
     "text": [
      " 1. Calling matplotlib.pyplot.gca\n",
      " 2. |---Calling matplotlib.pyplot.gcf\n",
      " 3. |-------Calling matplotlib.pyplot.figure\n",
      " 4. |-----------Calling matplotlib.figure.__init__\n",
      " 5. |-----------Returning <NoneType:4296543296> from matplotlib.figure.__init__\n",
      " 6. |-------Returning <Figure:4471288208> from matplotlib.pyplot.figure\n",
      " 7. |---Returning <Figure:4471288208> from matplotlib.pyplot.gcf\n",
      " 8. |---Calling matplotlib.figure.gca\n",
      " 9. |-------Calling matplotlib.figure.add_subplot\n",
      "10. |-----------Calling matplotlib.axes._base.__init__\n",
      "11. |-----------Returning <NoneType:4296543296> from matplotlib.axes._base.__init__\n",
      "12. |-------Returning <AxesSubplot:4471291856> from matplotlib.figure.add_subplot\n",
      "13. |---Returning <AxesSubplot:4471291856> from matplotlib.figure.gca\n",
      "14. Returning <AxesSubplot:4471291856> from matplotlib.pyplot.gca\n"
     ]
    }
   ],
   "source": [
    "plt.hist(np.random.randn(1000));"
   ]
  },
  {
   "cell_type": "markdown",
   "metadata": {},
   "source": [
    "What we see happening above, and detailed in the diagram below, is that the `pyplot.hist` function first tries to get the current `Axes` object by calling the `pyplot.gca` function. If you remember, in the last lesson, I mentioned that the `Axes` class was the main interface for plotting, so it makes sense for the `hist` function to first grab the current axes. \n",
    "\n",
    "To get the current axes, the `pyplot.gca` function must first get the current `Figure`, and it does so by calling the `pyplot.gcf` function---remember, the `Figure` object is the root object that contains all other components in a plot, including the `Axes` objects. \n",
    "\n",
    "To get the current `Figure`, the `pyplot.gcf` function will check for the top most figure on a stack of figures, and if one exists, it will return it. Otherwise, it will call the `pyplot.figure` function to create a new `Figure`, and add it to the top of the stack, before returning it to the calling function. \n",
    "\n",
    "After getting the current figure, the `pyplot.gca` function will check if that figure contains an `Axes` object, and if it doesn't, it will call the `add_subplot` function on the `Figure` instance to create a new one. \n",
    "\n",
    "Finally, after the `pyplot.gca` function returns the current axes object, the `pyplot.hist` function will call the `Axes.hist` function on the `Axes` object to create our histogram.\n",
    "\n",
    "![pyplot Stateful Interface](./images/pyplot_stateful_interface.jpeg \"pyplot Stateful Interface\")\n",
    "\n",
    "Now, we're not going to show the histogram that we've created just yet, because the interactive backends (i.e., the UI and Jupyter notebook backends) automatically destroy the figure object once it's shown. Since we want to see how the `pyplot` interface works both with, and without, a current figure, we'll save our histogram to disk instead to keep the current figure object on the stack. \n",
    "\n",
    "The call below will save the current figure to the temp directory we created at the beginning of this lesson using the `generate_filename` callable object we made to create a unique and sortable filename.\n",
    "\n",
    "<!--- the _pylab_helpers.destroy function is called once the figure is shown. So, we end up with only 1 active figure in the queue at all times. However, when rendering a hardcopy the figure is not destroyed, and so calling any plot command will simply add to the current figure. There are two ways to prevent this from happening: first, you can call the plt.clf() function to clear the current figure before you reuse it, second, you can call the plt.figure() function to create a new figure. We'll go with first option here and save the call to plt.figure() for our next lesson --->"
   ]
  },
  {
   "cell_type": "code",
   "execution_count": 10,
   "metadata": {
    "collapsed": false
   },
   "outputs": [
    {
     "name": "stdout",
     "output_type": "stream",
     "text": [
      "15. Calling matplotlib.pyplot.gcf\n",
      "16. Returning <Figure:4471288208> from matplotlib.pyplot.gcf\n"
     ]
    }
   ],
   "source": [
    "plt.savefig(generate_filename())"
   ]
  },
  {
   "cell_type": "markdown",
   "metadata": {},
   "source": [
    "You probably noticed that calling the `pyplot.savefig` function caused the `pyplot.gcf` function to be called. By having a stateful interface that keeps track of the current figure being used, the `pyplot` module has saved us a few keystokes by allowing us to save a figure without explicitly stating which figure to save. \n",
    "\n",
    "If you want to see the figure stack itself, you can simply call the `pyplot.get_fignums` to get a list of the figures in the stack."
   ]
  },
  {
   "cell_type": "code",
   "execution_count": 11,
   "metadata": {
    "collapsed": false
   },
   "outputs": [
    {
     "data": {
      "text/plain": [
       "[1]"
      ]
     },
     "execution_count": 11,
     "metadata": {},
     "output_type": "execute_result"
    }
   ],
   "source": [
    "plt.get_fignums()"
   ]
  },
  {
   "cell_type": "markdown",
   "metadata": {},
   "source": [
    "## Where's the State\n",
    "\n",
    "The `pyplot.get_fignums` function that we called above is one way to peer into the underlying state of the `pyplot` module, but it's still a layer of abstraction on top of the real thing. If you really want to see the stack itself, you can find it inside of the `_pylab_helpers` module. In this module, you'll find a singleton class, called `Gcf`, that contains a list of `Figure` objects called the `Gcf._activeQue`. This unfortunately named class variable is the stack of figures that the `pyplot` module uses to manage the current state of the system. To see what's in the stack, we'll create a function, that we'll call `print_fig_stack`, that will loop through each figure and print its figure number and `id`."
   ]
  },
  {
   "cell_type": "code",
   "execution_count": 12,
   "metadata": {
    "collapsed": true
   },
   "outputs": [],
   "source": [
    "from matplotlib import _pylab_helpers\n",
    "\n",
    "def print_fig_stack():\n",
    "    for figmgr in _pylab_helpers.Gcf._activeQue:\n",
    "        print \"(%d, <Figure:%d>)\" % (figmgr.num, id(figmgr.canvas.figure))"
   ]
  },
  {
   "cell_type": "markdown",
   "metadata": {},
   "source": [
    "And, if we run our new function, we'll get a view of the actual figure stack."
   ]
  },
  {
   "cell_type": "code",
   "execution_count": 13,
   "metadata": {
    "collapsed": false
   },
   "outputs": [
    {
     "name": "stdout",
     "output_type": "stream",
     "text": [
      "(1, <Figure:4471288208>)\n"
     ]
    }
   ],
   "source": [
    "print_fig_stack()"
   ]
  },
  {
   "cell_type": "markdown",
   "metadata": {},
   "source": [
    "Again, we can conclude two things after using this function: first, we have exactly one figure in the current stack, and second, that figure is the same one that we created with our very first call to the `pyplot.hist` function (you can tell by looking at the `id`'s).\n",
    "\n",
    "Using our `print_fig_stack` function, we can see that we have a current figure that we can now reuse, but of course there's one problem with reusing a figure: calling anymore plot commands will simply add to the current figure, which isn't what we want at all. Now, to prevent this from happening, you'll need to wipe the contents from the current figure, and you can do so with a call to the `pyplot.clf` function, which is short for \"clear figure\"."
   ]
  },
  {
   "cell_type": "code",
   "execution_count": 14,
   "metadata": {
    "collapsed": false
   },
   "outputs": [
    {
     "name": "stdout",
     "output_type": "stream",
     "text": [
      "17. Calling matplotlib.pyplot.gcf\n",
      "18. Returning <Figure:4471288208> from matplotlib.pyplot.gcf\n"
     ]
    }
   ],
   "source": [
    "plt.clf()"
   ]
  },
  {
   "cell_type": "markdown",
   "metadata": {},
   "source": [
    "Now we can create another plot and see how the `pyplot` interface acts when we already have an existing `Figure` object. But first, before we do that, we want to start the line numbering all over. So, let's call the `println.reset` function that we added to our `println` callable earlier. "
   ]
  },
  {
   "cell_type": "code",
   "execution_count": 15,
   "metadata": {
    "collapsed": true
   },
   "outputs": [],
   "source": [
    "println.reset()"
   ]
  },
  {
   "cell_type": "markdown",
   "metadata": {},
   "source": [
    "Then, we call the `pyplot.plot` function to plot a line graph connecting a bunch of random points."
   ]
  },
  {
   "cell_type": "code",
   "execution_count": 16,
   "metadata": {
    "collapsed": false
   },
   "outputs": [
    {
     "name": "stdout",
     "output_type": "stream",
     "text": [
      " 1. Calling matplotlib.pyplot.gca\n",
      " 2. |---Calling matplotlib.pyplot.gcf\n",
      " 3. |---Returning <Figure:4471288208> from matplotlib.pyplot.gcf\n",
      " 4. |---Calling matplotlib.figure.gca\n",
      " 5. |-------Calling matplotlib.figure.add_subplot\n",
      " 6. |-----------Calling matplotlib.axes._base.__init__\n",
      " 7. |-----------Returning <NoneType:4296543296> from matplotlib.axes._base.__init__\n",
      " 8. |-------Returning <AxesSubplot:4511180752> from matplotlib.figure.add_subplot\n",
      " 9. |---Returning <AxesSubplot:4511180752> from matplotlib.figure.gca\n",
      "10. Returning <AxesSubplot:4511180752> from matplotlib.pyplot.gca\n"
     ]
    },
    {
     "data": {
      "text/plain": [
       "[<matplotlib.lines.Line2D at 0x10d16d890>]"
      ]
     },
     "execution_count": 16,
     "metadata": {},
     "output_type": "execute_result"
    }
   ],
   "source": [
    "plt.plot(np.random.randn(100))"
   ]
  },
  {
   "cell_type": "markdown",
   "metadata": {},
   "source": [
    "This time around, you'll notice that there are slightly fewer calls. Again, the `pyplot.gca` and `pyplot.gcf` functions are called, but there's already a figure present on the stack, so the `pyplot.figure` function is never called to create a new `Figure` object. Outside of that, everything looks nearly identical to the `pyplot.hist` call above. \n",
    "\n",
    "Let's go ahead and save our new figure once again using our `generate_filename` function to save the new figure to the temp directory with the next consecutive filename."
   ]
  },
  {
   "cell_type": "code",
   "execution_count": 17,
   "metadata": {
    "collapsed": false
   },
   "outputs": [
    {
     "name": "stdout",
     "output_type": "stream",
     "text": [
      "11. Calling matplotlib.pyplot.gcf\n",
      "12. Returning <Figure:4471288208> from matplotlib.pyplot.gcf\n"
     ]
    }
   ],
   "source": [
    "plt.savefig(generate_filename())"
   ]
  },
  {
   "cell_type": "markdown",
   "metadata": {},
   "source": [
    "Since we saved the figure again, instead of showing it, its `id` should match that of the figure in the call to `pyplot.hist` above, and we can prove that by once again calling our `print_fig_stack` function."
   ]
  },
  {
   "cell_type": "code",
   "execution_count": 18,
   "metadata": {
    "collapsed": false
   },
   "outputs": [
    {
     "name": "stdout",
     "output_type": "stream",
     "text": [
      "(1, <Figure:4471288208>)\n"
     ]
    }
   ],
   "source": [
    "print_fig_stack()"
   ]
  },
  {
   "cell_type": "markdown",
   "metadata": {},
   "source": [
    "Yep, that `id` matches the one from the earlier call above.\n",
    "\n",
    "Now, just to prove that everything else worked as you'd expect, we're going to display each of the images we saved for the figures we created earlier. The code below, loops through each of the image files in the temp directory we created at the start of this lesson, and displays each one using the `display_png` function that IPython provides."
   ]
  },
  {
   "cell_type": "code",
   "execution_count": 19,
   "metadata": {
    "collapsed": false
   },
   "outputs": [
    {
     "data": {
      "image/png": "[encoded data removed]"
     },
     "metadata": {},
     "output_type": "display_data"
    },
    {
     "data": {
      "image/png": "[encoded data removed]"
     },
     "metadata": {},
     "output_type": "display_data"
    }
   ],
   "source": [
    "import glob\n",
    "from IPython.display import Image, display_png\n",
    "images = sorted(glob.glob('%s/*.png' % tmpdir))\n",
    "for img_fname in images:\n",
    "    display_png(Image(filename=img_fname))"
   ]
  },
  {
   "cell_type": "markdown",
   "metadata": {},
   "source": [
    "## Conclusion\n",
    "\n",
    "And, that's going to bring us to the end. \n",
    "\n",
    "In this lesson, we took what we've learned over the past two and got an x-ray view of the inner workings of the `pyplot` interface. We saw how the interface abstracts away the creation of `Figure` and `Axes` objects, and we also saw the class where the internal state of the system is kept. Overall, you should now have a much better idea of how matplotlib works, and you should be able to reason more effectively when using the `pyplot` interface. But, we're not done just yet! \n",
    "\n",
    "In the next lesson, we'll dive into the `pyplot` interface one last time to learn about how it manages the stack of figures so we can avoid some common memory problems when working with the interface."
   ]
  }
 ],
 "metadata": {
  "kernelspec": {
   "display_name": "Python 2",
   "language": "python",
   "name": "python2"
  },
  "language_info": {
   "codemirror_mode": {
    "name": "ipython",
    "version": 2
   },
   "file_extension": ".py",
   "mimetype": "text/x-python",
   "name": "python",
   "nbconvert_exporter": "python",
   "pygments_lexer": "ipython2",
   "version": "2.7.11"
  }
 },
 "nbformat": 4,
 "nbformat_minor": 0
}
