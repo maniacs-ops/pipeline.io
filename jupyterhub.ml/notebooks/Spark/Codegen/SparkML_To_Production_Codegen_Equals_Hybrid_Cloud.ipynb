{
 "cells": [
  {
   "cell_type": "code",
   "execution_count": 67,
   "metadata": {
    "collapsed": true
   },
   "outputs": [],
   "source": [
    "from urllib import request\n",
    "\n",
    "sourceBytes = ' \\\n",
    "  private String str; \\\n",
    "  \\\n",
    "  public void initialize(Map<Object, Object> initializers) { \\\n",
    "    // TODO:  Nothing Yet... \\\n",
    "  } \\\n",
    "  \\\n",
    "  public Object predict(Map<Object,Object> inputs) { \\\n",
    "    return \"foo\"; \\\n",
    "  } \\\n",
    "'.encode('utf-8')"
   ]
  },
  {
   "cell_type": "code",
   "execution_count": 68,
   "metadata": {
    "collapsed": false,
    "scrolled": true
   },
   "outputs": [
    {
     "name": "stdout",
     "output_type": "stream",
     "text": [
      "200\n"
     ]
    }
   ],
   "source": [
    "from urllib import request\n",
    "\n",
    "class_name = 'codegen'\n",
    "update_url = 'http://prediction-codegen-aws.demo.pipeline.io/update-source/%s' % class_name\n",
    "\n",
    "update_headers = {}\n",
    "update_headers['Content-type'] = 'text/plain'\n",
    "\n",
    "# Note:  the url must have a trailing '/' or else the REST Service drops the className at the end\n",
    "# TODO:  Figure out why!\n",
    "req = request.Request(\"%s/\" % update_url, headers=update_headers, data=sourceBytes)\n",
    "resp = request.urlopen(req)\n",
    "\n",
    "print(resp.status) # Should return Http Status 200 "
   ]
  },
  {
   "cell_type": "code",
   "execution_count": 69,
   "metadata": {
    "collapsed": false
   },
   "outputs": [
    {
     "name": "stdout",
     "output_type": "stream",
     "text": [
      "200\n"
     ]
    }
   ],
   "source": [
    "from urllib import request\n",
    "\n",
    "class_name = 'codegen'\n",
    "update_url = 'http://prediction-codegen-gcp.demo.pipeline.io/update-source/%s' % class_name\n",
    "\n",
    "update_headers = {}\n",
    "update_headers['Content-type'] = 'text/plain'\n",
    "\n",
    "# Note:  the url must have a trailing '/' or else the REST Service drops the className at the end\n",
    "# TODO:  Figure out why!\n",
    "req = request.Request(\"%s/\" % update_url, headers=update_headers, data=sourceBytes)\n",
    "resp = request.urlopen(req)\n",
    "\n",
    "print(resp.status) # Should return Http Status 200 "
   ]
  },
  {
   "cell_type": "code",
   "execution_count": 70,
   "metadata": {
    "collapsed": false
   },
   "outputs": [
    {
     "name": "stdout",
     "output_type": "stream",
     "text": [
      "b'{\"results\":[{\\'21619\\': \\'true\\'}]}'\n"
     ]
    }
   ],
   "source": [
    "from urllib import request\n",
    "\n",
    "evaluate_url = 'http://prediction-codegen-aws.demo.pipeline.io/evaluate-source/codegen/21619'\n",
    "\n",
    "evaluate_headers = {}\n",
    "evaluate_headers['Content-type'] = 'plain/text'\n",
    "\n",
    "req = request.Request(evaluate_url, headers=evaluate_headers)\n",
    "resp = request.urlopen(req)\n",
    "\n",
    "print(resp.read()) # Should return true/false"
   ]
  },
  {
   "cell_type": "code",
   "execution_count": 71,
   "metadata": {
    "collapsed": false
   },
   "outputs": [
    {
     "name": "stdout",
     "output_type": "stream",
     "text": [
      "b'{\"results\":[{\\'21619\\': \\'true\\'}]}'\n"
     ]
    }
   ],
   "source": [
    "from urllib import request\n",
    "\n",
    "evaluate_url = 'http://prediction-codegen-gcp.demo.pipeline.io/evaluate-source/codegen/21619'\n",
    "\n",
    "evaluate_headers = {}\n",
    "evaluate_headers['Content-type'] = 'plain/text'\n",
    "\n",
    "req = request.Request(evaluate_url, headers=evaluate_headers)\n",
    "resp = request.urlopen(req)\n",
    "\n",
    "print(resp.read()) # Should return true/false"
   ]
  },
  {
   "cell_type": "code",
   "execution_count": 6,
   "metadata": {
    "collapsed": false
   },
   "outputs": [
    {
     "data": {
      "text/html": [
       "<iframe width=100% height=500 src=\"http://hystrix.demo.pipeline.io/hystrix-dashboard/monitor/monitor.html?streams=%5B%7B%22name%22%3A%22Predictions%20-%20AWS%22%2C%22stream%22%3A%22http%3A%2F%2Fturbine-aws.demo.pipeline.io%2Fturbine.stream%22%2C%22auth%22%3A%22%22%2C%22delay%22%3A%22%22%7D%2C%7B%22name%22%3A%22Predictions%20-%20GCP%22%2C%22stream%22%3A%22http%3A%2F%2Fturbine-gcp.demo.pipeline.io%2Fturbine.stream%22%2C%22auth%22%3A%22%22%2C%22delay%22%3A%22%22%7D%5D\">"
      ],
      "text/plain": [
       "<IPython.core.display.HTML object>"
      ]
     },
     "metadata": {},
     "output_type": "display_data"
    }
   ],
   "source": [
    "from IPython.display import display, HTML\n",
    "\n",
    "html = '<iframe width=100% height=500 src=\"http://hystrix.demo.pipeline.io/hystrix-dashboard/monitor/monitor.html?streams=%5B%7B%22name%22%3A%22Predictions%20-%20AWS%22%2C%22stream%22%3A%22http%3A%2F%2Fturbine-aws.demo.pipeline.io%2Fturbine.stream%22%2C%22auth%22%3A%22%22%2C%22delay%22%3A%22%22%7D%2C%7B%22name%22%3A%22Predictions%20-%20GCP%22%2C%22stream%22%3A%22http%3A%2F%2Fturbine-gcp.demo.pipeline.io%2Fturbine.stream%22%2C%22auth%22%3A%22%22%2C%22delay%22%3A%22%22%7D%5D\">'\n",
    "display(HTML(html))"
   ]
  }
 ],
 "metadata": {
  "anaconda-cloud": {},
  "kernelspec": {
   "display_name": "Python [default]",
   "language": "python",
   "name": "python3"
  },
  "language_info": {
   "codemirror_mode": {
    "name": "ipython",
    "version": 3
   },
   "file_extension": ".py",
   "mimetype": "text/x-python",
   "name": "python",
   "nbconvert_exporter": "python",
   "pygments_lexer": "ipython3",
   "version": "3.5.2"
  }
 },
 "nbformat": 4,
 "nbformat_minor": 1
}
