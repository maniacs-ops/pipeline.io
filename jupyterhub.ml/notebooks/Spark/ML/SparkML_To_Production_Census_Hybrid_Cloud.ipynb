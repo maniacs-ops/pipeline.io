{
 "cells": [
  {
   "cell_type": "markdown",
   "metadata": {},
   "source": [
    "## Explore the Environment"
   ]
  },
  {
   "cell_type": "markdown",
   "metadata": {},
   "source": [
    "### Setup Environment"
   ]
  },
  {
   "cell_type": "code",
   "execution_count": 1,
   "metadata": {
    "collapsed": false,
    "scrolled": true
   },
   "outputs": [
    {
     "name": "stdout",
     "output_type": "stream",
     "text": [
      "fatal: destination path 'pipeline.io' already exists and is not an empty directory.\r\n"
     ]
    }
   ],
   "source": [
    "!cd ~ && git clone --recursive https://github.com/fluxcapacitor/pipeline.io"
   ]
  },
  {
   "cell_type": "markdown",
   "metadata": {},
   "source": [
    "### Explore Environment"
   ]
  },
  {
   "cell_type": "code",
   "execution_count": 2,
   "metadata": {
    "collapsed": false
   },
   "outputs": [
    {
     "name": "stdout",
     "output_type": "stream",
     "text": [
      "switched to context \"aws_k8s_training\".\r\n"
     ]
    }
   ],
   "source": [
    "!/root/pipeline.io/bin/pipeline-context-switch-aws-training.sh"
   ]
  },
  {
   "cell_type": "code",
   "execution_count": 3,
   "metadata": {
    "collapsed": false,
    "scrolled": true
   },
   "outputs": [
    {
     "name": "stdout",
     "output_type": "stream",
     "text": [
      "NAME                                 READY     STATUS    RESTARTS   AGE\r\n",
      "airflow-180xs                        1/1       Running   0          12d\r\n",
      "airpal-2h0l7                         1/1       Running   0          12d\r\n",
      "cassandra-de9oe                      1/1       Running   0          12d\r\n",
      "clustered-tensorflow-master-xsqbd    1/1       Running   0          1d\r\n",
      "clustered-tensorflow-ps0-rlihr       1/1       Running   0          1d\r\n",
      "clustered-tensorflow-ps1-2l181       1/1       Running   0          1d\r\n",
      "clustered-tensorflow-worker0-3o5yv   1/1       Running   0          1d\r\n",
      "clustered-tensorflow-worker1-duuf8   1/1       Running   0          1d\r\n",
      "elasticsearch-2-3-0-er0i5            1/1       Running   0          12d\r\n",
      "hystrix-xlbp6                        1/1       Running   0          2h\r\n",
      "jupyterhub-master-26yr8              1/1       Running   0          1d\r\n",
      "kafka-0-8-e653j                      1/1       Running   0          12d\r\n",
      "kibana-4-5-0-crrbl                   1/1       Running   0          12d\r\n",
      "metastore-1-2-1-ajze9                1/1       Running   0          12d\r\n",
      "mysql-master-n1slt                   1/1       Running   0          12d\r\n",
      "presto-master-uidot                  1/1       Running   0          12d\r\n",
      "presto-worker-50guq                  1/1       Running   0          12d\r\n",
      "redis-master-406n4                   1/1       Running   0          12d\r\n",
      "spark-master-2-0-1-b2qgi             1/1       Running   0          7d\r\n",
      "spark-worker-2-0-1-ejwsw             1/1       Running   0          7d\r\n",
      "weavescope-app-3r58t                 1/1       Running   0          9d\r\n",
      "weavescope-probe-5m9q1               1/1       Running   0          9d\r\n",
      "weavescope-probe-5v0fw               1/1       Running   0          9d\r\n",
      "web-home-h06mv                       1/1       Running   0          36m\r\n",
      "zeppelin-master-xh7ti                1/1       Running   0          12d\r\n",
      "zookeeper-uvqb7                      1/1       Running   0          12d\r\n"
     ]
    }
   ],
   "source": [
    "!kubectl get pod"
   ]
  },
  {
   "cell_type": "markdown",
   "metadata": {},
   "source": [
    "### [Training Cluster](http://kubernetes.demo.pipeline.io/)"
   ]
  },
  {
   "cell_type": "code",
   "execution_count": 2,
   "metadata": {
    "collapsed": false
   },
   "outputs": [
    {
     "data": {
      "text/html": [
       "<iframe width=100% height=500px src=\"http://kubernetes.demo.pipeline.io\">"
      ],
      "text/plain": [
       "<IPython.core.display.HTML object>"
      ]
     },
     "metadata": {},
     "output_type": "display_data"
    }
   ],
   "source": [
    "from IPython.display import display, HTML\n",
    "\n",
    "html = '<iframe width=100% height=500px src=\"http://kubernetes.demo.pipeline.io\">'\n",
    "display(HTML(html))"
   ]
  },
  {
   "cell_type": "code",
   "execution_count": 5,
   "metadata": {
    "collapsed": false
   },
   "outputs": [
    {
     "name": "stdout",
     "output_type": "stream",
     "text": [
      "switched to context \"aws_k8s_predictions\".\r\n"
     ]
    }
   ],
   "source": [
    "!/root/pipeline.io/bin/pipeline-context-switch-aws-predictions.sh"
   ]
  },
  {
   "cell_type": "code",
   "execution_count": 6,
   "metadata": {
    "collapsed": false
   },
   "outputs": [
    {
     "name": "stdout",
     "output_type": "stream",
     "text": [
      "NAME                       READY     STATUS    RESTARTS   AGE\r\n",
      "prediction-codegen-wiu69   1/1       Running   0          55m\r\n",
      "prediction-codegen-y7ovp   1/1       Running   0          6m\r\n",
      "prediction-pmml-fwric      1/1       Running   0          1h\r\n",
      "prediction-pmml-ndwai      1/1       Running   0          6m\r\n",
      "turbine-g4j7q              1/1       Running   0          1h\r\n",
      "weavescope-app-oh0mh       1/1       Running   0          1h\r\n",
      "weavescope-probe-jwdo4     1/1       Running   0          1h\r\n"
     ]
    }
   ],
   "source": [
    "!kubectl get pod"
   ]
  },
  {
   "cell_type": "markdown",
   "metadata": {},
   "source": [
    "### [Prediction Cluster - AWS](http://kubernetes-aws.demo.pipeline.io/)"
   ]
  },
  {
   "cell_type": "code",
   "execution_count": 7,
   "metadata": {
    "collapsed": false
   },
   "outputs": [
    {
     "data": {
      "text/html": [
       "<iframe width=100% height=500px src=\"http://kubernetes-aws.demo.pipeline.io\">"
      ],
      "text/plain": [
       "<IPython.core.display.HTML object>"
      ]
     },
     "metadata": {},
     "output_type": "display_data"
    }
   ],
   "source": [
    "from IPython.display import display, HTML\n",
    "\n",
    "html = '<iframe width=100% height=500px src=\"http://kubernetes-aws.demo.pipeline.io\">'\n",
    "display(HTML(html))"
   ]
  },
  {
   "cell_type": "code",
   "execution_count": 8,
   "metadata": {
    "collapsed": false
   },
   "outputs": [
    {
     "name": "stdout",
     "output_type": "stream",
     "text": [
      "switched to context \"gcp_k8s_predictions\".\r\n"
     ]
    }
   ],
   "source": [
    "!/root/pipeline.io/bin/pipeline-context-switch-gcp-predictions.sh"
   ]
  },
  {
   "cell_type": "code",
   "execution_count": 9,
   "metadata": {
    "collapsed": false
   },
   "outputs": [
    {
     "name": "stdout",
     "output_type": "stream",
     "text": [
      "NAME                       READY     STATUS    RESTARTS   AGE\r\n",
      "prediction-codegen-gvmko   1/1       Running   0          56m\r\n",
      "prediction-codegen-z8puw   1/1       Running   0          6m\r\n",
      "prediction-pmml-jz21l      1/1       Running   0          1h\r\n",
      "prediction-pmml-mbwy1      1/1       Running   0          6m\r\n",
      "turbine-u6588              1/1       Running   0          1h\r\n",
      "weavescope-app-nrc6o       1/1       Running   0          1h\r\n",
      "weavescope-probe-5rogi     1/1       Running   0          1h\r\n"
     ]
    }
   ],
   "source": [
    "!kubectl get pod"
   ]
  },
  {
   "cell_type": "markdown",
   "metadata": {},
   "source": [
    "### [Prediction Cluster - GCP](http://kubernetes-gcp.demo.pipeline.io/)"
   ]
  },
  {
   "cell_type": "code",
   "execution_count": 1,
   "metadata": {
    "collapsed": false
   },
   "outputs": [
    {
     "data": {
      "text/html": [
       "<iframe width=100% height=500px src=\"http://kubernetes-gcp.demo.pipeline.io\">"
      ],
      "text/plain": [
       "<IPython.core.display.HTML object>"
      ]
     },
     "metadata": {},
     "output_type": "display_data"
    }
   ],
   "source": [
    "from IPython.display import display, HTML\n",
    "\n",
    "html = '<iframe width=100% height=500px src=\"http://kubernetes-gcp.demo.pipeline.io\">'\n",
    "display(HTML(html))"
   ]
  },
  {
   "cell_type": "markdown",
   "metadata": {},
   "source": [
    "## Generate Spark ML Decision Tree"
   ]
  },
  {
   "cell_type": "markdown",
   "metadata": {},
   "source": [
    "### Scale Out Spark Cluster"
   ]
  },
  {
   "cell_type": "code",
   "execution_count": 11,
   "metadata": {
    "collapsed": false
   },
   "outputs": [
    {
     "name": "stdout",
     "output_type": "stream",
     "text": [
      "switched to context \"aws_k8s_training\".\r\n"
     ]
    }
   ],
   "source": [
    "!/root/pipeline.io/bin/pipeline-context-switch-aws-training.sh"
   ]
  },
  {
   "cell_type": "code",
   "execution_count": 12,
   "metadata": {
    "collapsed": false
   },
   "outputs": [
    {
     "name": "stdout",
     "output_type": "stream",
     "text": [
      "replicationcontroller \"spark-worker-2-0-1\" scaled\r\n"
     ]
    }
   ],
   "source": [
    "!/root/pipeline.io/bin/pipeline-deployment-scale-out-training.sh"
   ]
  },
  {
   "cell_type": "code",
   "execution_count": 13,
   "metadata": {
    "collapsed": false
   },
   "outputs": [
    {
     "name": "stdout",
     "output_type": "stream",
     "text": [
      "NAME                                 READY     STATUS              RESTARTS   AGE\r\n",
      "airflow-180xs                        1/1       Running             0          12d\r\n",
      "airpal-2h0l7                         1/1       Running             0          12d\r\n",
      "cassandra-de9oe                      1/1       Running             0          12d\r\n",
      "clustered-tensorflow-master-xsqbd    1/1       Running             0          1d\r\n",
      "clustered-tensorflow-ps0-rlihr       1/1       Running             0          1d\r\n",
      "clustered-tensorflow-ps1-2l181       1/1       Running             0          1d\r\n",
      "clustered-tensorflow-worker0-3o5yv   1/1       Running             0          1d\r\n",
      "clustered-tensorflow-worker1-duuf8   1/1       Running             0          1d\r\n",
      "elasticsearch-2-3-0-er0i5            1/1       Running             0          12d\r\n",
      "hystrix-xlbp6                        1/1       Running             0          2h\r\n",
      "jupyterhub-master-26yr8              1/1       Running             0          1d\r\n",
      "kafka-0-8-e653j                      1/1       Running             0          12d\r\n",
      "kibana-4-5-0-crrbl                   1/1       Running             0          12d\r\n",
      "metastore-1-2-1-ajze9                1/1       Running             0          12d\r\n",
      "mysql-master-n1slt                   1/1       Running             0          12d\r\n",
      "presto-master-uidot                  1/1       Running             0          12d\r\n",
      "presto-worker-50guq                  1/1       Running             0          12d\r\n",
      "redis-master-406n4                   1/1       Running             0          12d\r\n",
      "spark-master-2-0-1-b2qgi             1/1       Running             0          7d\r\n",
      "spark-worker-2-0-1-ejwsw             1/1       Running             0          7d\r\n",
      "spark-worker-2-0-1-i546z             0/1       ContainerCreating   0          0s\r\n",
      "spark-worker-2-0-1-l88ap             0/1       ContainerCreating   0          0s\r\n",
      "spark-worker-2-0-1-t99we             0/1       ContainerCreating   0          0s\r\n",
      "spark-worker-2-0-1-zpoxz             0/1       ContainerCreating   0          0s\r\n",
      "weavescope-app-3r58t                 1/1       Running             0          9d\r\n",
      "weavescope-probe-5m9q1               1/1       Running             0          9d\r\n",
      "weavescope-probe-5v0fw               1/1       Running             0          9d\r\n",
      "web-home-h06mv                       1/1       Running             0          36m\r\n",
      "zeppelin-master-xh7ti                1/1       Running             0          12d\r\n",
      "zookeeper-uvqb7                      1/1       Running             0          12d\r\n"
     ]
    }
   ],
   "source": [
    "!kubectl get pod"
   ]
  },
  {
   "cell_type": "markdown",
   "metadata": {},
   "source": [
    "### [Spark Admin](http://spark.demo.pipeline.io)"
   ]
  },
  {
   "cell_type": "markdown",
   "metadata": {},
   "source": [
    "### [Training Cluster](http://kubernetes.demo.pipeline.io/)"
   ]
  },
  {
   "cell_type": "code",
   "execution_count": 14,
   "metadata": {
    "collapsed": false
   },
   "outputs": [
    {
     "data": {
      "text/html": [
       "<iframe width=100% height=500px src=\"http://kubernetes.demo.pipeline.io\">"
      ],
      "text/plain": [
       "<IPython.core.display.HTML object>"
      ]
     },
     "metadata": {},
     "output_type": "display_data"
    }
   ],
   "source": [
    "from IPython.display import display, HTML\n",
    "\n",
    "html = '<iframe width=100% height=500px src=\"http://kubernetes.demo.pipeline.io\">'\n",
    "display(HTML(html))"
   ]
  },
  {
   "cell_type": "markdown",
   "metadata": {},
   "source": [
    "### Setup SparkSession"
   ]
  },
  {
   "cell_type": "code",
   "execution_count": 15,
   "metadata": {
    "collapsed": false
   },
   "outputs": [],
   "source": [
    "from pyspark.sql import SparkSession\n",
    "\n",
    "sparkSession = SparkSession.builder.getOrCreate()"
   ]
  },
  {
   "cell_type": "markdown",
   "metadata": {},
   "source": [
    "### Load Training Dataset from S3 into Spark"
   ]
  },
  {
   "cell_type": "code",
   "execution_count": 16,
   "metadata": {
    "collapsed": false,
    "scrolled": false
   },
   "outputs": [
    {
     "data": {
      "text/plain": [
       "Row(age=39, workclass='State-gov', education='Bachelors', education_num=13, marital_status='Never-married', occupation='Adm-clerical', relationship='Not-in-family', race='White', sex='Male', capital_gain=2174, capital_loss=0, hours_per_week=40, native_country='United-States', income='<=50K')"
      ]
     },
     "execution_count": 16,
     "metadata": {},
     "output_type": "execute_result"
    }
   ],
   "source": [
    "data = sparkSession.read.format(\"csv\") \\\n",
    "  .option(\"inferSchema\", \"true\").option(\"header\", \"true\") \\\n",
    "  .load(\"s3a://datapalooza/R/census.csv\")\n",
    "\n",
    "data.head()"
   ]
  },
  {
   "cell_type": "markdown",
   "metadata": {},
   "source": [
    "### Build Spark ML Pipeline with Decision Tree Classifier"
   ]
  },
  {
   "cell_type": "code",
   "execution_count": 17,
   "metadata": {
    "collapsed": false
   },
   "outputs": [
    {
     "name": "stdout",
     "output_type": "stream",
     "text": [
      "PipelineModel_48228db25059e10b95f0\n"
     ]
    }
   ],
   "source": [
    "from pyspark.ml import Pipeline\n",
    "from pyspark.ml.feature import RFormula\n",
    "from pyspark.ml.classification import DecisionTreeClassifier\n",
    "\n",
    "formula = RFormula(formula = \"income ~ .\")\n",
    "classifier = DecisionTreeClassifier()\n",
    "\n",
    "pipeline = Pipeline(stages = [formula, classifier])\n",
    "\n",
    "pipelineModel = pipeline.fit(data)\n",
    "\n",
    "print(pipelineModel)"
   ]
  },
  {
   "cell_type": "code",
   "execution_count": 18,
   "metadata": {
    "collapsed": false
   },
   "outputs": [
    {
     "name": "stdout",
     "output_type": "stream",
     "text": [
      "DecisionTreeClassificationModel (uid=DecisionTreeClassifier_43d0b800f7ece489f7a8) of depth 5 with 59 nodes\n",
      "  If (feature 23 in {0.0})\n",
      "   If (feature 52 <= 7443.0)\n",
      "    If (feature 22 <= 13.0)\n",
      "     If (feature 54 <= 42.0)\n",
      "      If (feature 0 <= 33.0)\n",
      "       Predict: 0.0\n",
      "      Else (feature 0 > 33.0)\n",
      "       Predict: 0.0\n",
      "     Else (feature 54 > 42.0)\n",
      "      If (feature 9 in {0.0})\n",
      "       Predict: 0.0\n",
      "      Else (feature 9 not in {0.0})\n",
      "       Predict: 0.0\n",
      "    Else (feature 22 > 13.0)\n",
      "     If (feature 54 <= 43.0)\n",
      "      If (feature 0 <= 32.0)\n",
      "       Predict: 0.0\n",
      "      Else (feature 0 > 32.0)\n",
      "       Predict: 0.0\n",
      "     Else (feature 54 > 43.0)\n",
      "      If (feature 0 <= 32.0)\n",
      "       Predict: 0.0\n",
      "      Else (feature 0 > 32.0)\n",
      "       Predict: 0.0\n",
      "   Else (feature 52 > 7443.0)\n",
      "    If (feature 0 <= 20.0)\n",
      "     If (feature 8 in {0.0})\n",
      "      Predict: 0.0\n",
      "     Else (feature 8 not in {0.0})\n",
      "      Predict: 1.0\n",
      "    Else (feature 0 > 20.0)\n",
      "     If (feature 40 in {1.0})\n",
      "      If (feature 0 <= 37.0)\n",
      "       Predict: 1.0\n",
      "      Else (feature 0 > 37.0)\n",
      "       Predict: 0.0\n",
      "     Else (feature 40 not in {1.0})\n",
      "      If (feature 0 <= 54.0)\n",
      "       Predict: 1.0\n",
      "      Else (feature 0 > 54.0)\n",
      "       Predict: 1.0\n",
      "  Else (feature 23 not in {0.0})\n",
      "   If (feature 22 <= 12.0)\n",
      "    If (feature 52 <= 3456.0)\n",
      "     If (feature 22 <= 8.0)\n",
      "      If (feature 54 <= 43.0)\n",
      "       Predict: 0.0\n",
      "      Else (feature 54 > 43.0)\n",
      "       Predict: 0.0\n",
      "     Else (feature 22 > 8.0)\n",
      "      If (feature 53 <= 1844.0)\n",
      "       Predict: 0.0\n",
      "      Else (feature 53 > 1844.0)\n",
      "       Predict: 1.0\n",
      "    Else (feature 52 > 3456.0)\n",
      "     If (feature 52 <= 7443.0)\n",
      "      If (feature 22 <= 9.0)\n",
      "       Predict: 1.0\n",
      "      Else (feature 22 > 9.0)\n",
      "       Predict: 1.0\n",
      "     Else (feature 52 > 7443.0)\n",
      "      If (feature 22 <= 1.0)\n",
      "       Predict: 0.0\n",
      "      Else (feature 22 > 1.0)\n",
      "       Predict: 1.0\n",
      "   Else (feature 22 > 12.0)\n",
      "    If (feature 52 <= 7443.0)\n",
      "     If (feature 53 <= 1844.0)\n",
      "      If (feature 54 <= 30.0)\n",
      "       Predict: 0.0\n",
      "      Else (feature 54 > 30.0)\n",
      "       Predict: 1.0\n",
      "     Else (feature 53 > 1844.0)\n",
      "      If (feature 77 in {1.0})\n",
      "       Predict: 0.0\n",
      "      Else (feature 77 not in {1.0})\n",
      "       Predict: 1.0\n",
      "    Else (feature 52 > 7443.0)\n",
      "     If (feature 38 in {1.0})\n",
      "      If (feature 2 in {1.0})\n",
      "       Predict: 0.0\n",
      "      Else (feature 2 not in {1.0})\n",
      "       Predict: 1.0\n",
      "     Else (feature 38 not in {1.0})\n",
      "      If (feature 0 <= 65.0)\n",
      "       Predict: 1.0\n",
      "      Else (feature 0 > 65.0)\n",
      "       Predict: 1.0\n",
      "\n"
     ]
    }
   ],
   "source": [
    "print(pipelineModel.stages[1].toDebugString)"
   ]
  },
  {
   "cell_type": "markdown",
   "metadata": {},
   "source": [
    "## Convert Spark ML Pipeline to PMML"
   ]
  },
  {
   "cell_type": "code",
   "execution_count": 19,
   "metadata": {
    "collapsed": false
   },
   "outputs": [
    {
     "data": {
      "text/plain": [
       "'<?xml version=\"1.0\" encoding=\"UTF-8\" standalone=\"yes\"?>\\n<PMML xmlns=\"http://www.dmg.org/PMML-4_3\" version=\"4.3\">\\n\\t<Header>\\n\\t\\t<Application/>\\n\\t\\t<Timestamp>2016-11-24T17:55:43Z</Timestamp>\\n\\t</Header>\\n\\t<DataDictionary>\\n\\t\\t<DataField name=\"income\" optype=\"categorical\" dataType=\"string\">\\n\\t\\t\\t<Value value=\"&lt;=50K\"/>\\n\\t\\t\\t<Value value=\"&gt;50K\"/>\\n\\t\\t</DataField>\\n\\t\\t<DataField name=\"workclass\" optype=\"categorical\" dataType=\"string\">\\n\\t\\t\\t<Value value=\"Private\"/>\\n\\t\\t\\t<Value value=\"Self-emp-not-inc\"/>\\n\\t\\t\\t<Value value=\"Local-gov\"/>\\n\\t\\t\\t<Value value=\"State-gov\"/>\\n\\t\\t\\t<Value value=\"Self-emp-inc\"/>\\n\\t\\t\\t<Value value=\"Federal-gov\"/>\\n\\t\\t\\t<Value value=\"Without-pay\"/>\\n\\t\\t</DataField>\\n\\t\\t<DataField name=\"education\" optype=\"categorical\" dataType=\"string\">\\n\\t\\t\\t<Value value=\"HS-grad\"/>\\n\\t\\t\\t<Value value=\"Some-college\"/>\\n\\t\\t\\t<Value value=\"Bachelors\"/>\\n\\t\\t\\t<Value value=\"Masters\"/>\\n\\t\\t\\t<Value value=\"Assoc-voc\"/>\\n\\t\\t\\t<Value value=\"11th\"/>\\n\\t\\t\\t<Value value=\"Assoc-acdm\"/>\\n\\t\\t\\t<Value value=\"10th\"/>\\n\\t\\t\\t<Value value=\"7th-8th\"/>\\n\\t\\t\\t<Value value=\"Prof-school\"/>\\n\\t\\t\\t<Value value=\"9th\"/>\\n\\t\\t\\t<Value value=\"12th\"/>\\n\\t\\t\\t<Value value=\"Doctorate\"/>\\n\\t\\t\\t<Value value=\"5th-6th\"/>\\n\\t\\t\\t<Value value=\"1st-4th\"/>\\n\\t\\t\\t<Value value=\"Preschool\"/>\\n\\t\\t</DataField>\\n\\t\\t<DataField name=\"marital_status\" optype=\"categorical\" dataType=\"string\">\\n\\t\\t\\t<Value value=\"Married-civ-spouse\"/>\\n\\t\\t\\t<Value value=\"Never-married\"/>\\n\\t\\t\\t<Value value=\"Divorced\"/>\\n\\t\\t\\t<Value value=\"Separated\"/>\\n\\t\\t\\t<Value value=\"Widowed\"/>\\n\\t\\t\\t<Value value=\"Married-spouse-absent\"/>\\n\\t\\t\\t<Value value=\"Married-AF-spouse\"/>\\n\\t\\t</DataField>\\n\\t\\t<DataField name=\"occupation\" optype=\"categorical\" dataType=\"string\">\\n\\t\\t\\t<Value value=\"Craft-repair\"/>\\n\\t\\t\\t<Value value=\"Prof-specialty\"/>\\n\\t\\t\\t<Value value=\"Exec-managerial\"/>\\n\\t\\t\\t<Value value=\"Adm-clerical\"/>\\n\\t\\t\\t<Value value=\"Sales\"/>\\n\\t\\t\\t<Value value=\"Other-service\"/>\\n\\t\\t\\t<Value value=\"Machine-op-inspct\"/>\\n\\t\\t\\t<Value value=\"Transport-moving\"/>\\n\\t\\t\\t<Value value=\"Handlers-cleaners\"/>\\n\\t\\t\\t<Value value=\"Farming-fishing\"/>\\n\\t\\t\\t<Value value=\"Tech-support\"/>\\n\\t\\t\\t<Value value=\"Protective-serv\"/>\\n\\t\\t\\t<Value value=\"Priv-house-serv\"/>\\n\\t\\t\\t<Value value=\"Armed-Forces\"/>\\n\\t\\t</DataField>\\n\\t\\t<DataField name=\"native_country\" optype=\"categorical\" dataType=\"string\">\\n\\t\\t\\t<Value value=\"United-States\"/>\\n\\t\\t\\t<Value value=\"Mexico\"/>\\n\\t\\t\\t<Value value=\"Philippines\"/>\\n\\t\\t\\t<Value value=\"Germany\"/>\\n\\t\\t\\t<Value value=\"Puerto-Rico\"/>\\n\\t\\t\\t<Value value=\"Canada\"/>\\n\\t\\t\\t<Value value=\"India\"/>\\n\\t\\t\\t<Value value=\"El-Salvador\"/>\\n\\t\\t\\t<Value value=\"Cuba\"/>\\n\\t\\t\\t<Value value=\"England\"/>\\n\\t\\t\\t<Value value=\"China\"/>\\n\\t\\t\\t<Value value=\"Jamaica\"/>\\n\\t\\t\\t<Value value=\"South\"/>\\n\\t\\t\\t<Value value=\"Italy\"/>\\n\\t\\t\\t<Value value=\"Dominican-Republic\"/>\\n\\t\\t\\t<Value value=\"Japan\"/>\\n\\t\\t\\t<Value value=\"Guatemala\"/>\\n\\t\\t\\t<Value value=\"Vietnam\"/>\\n\\t\\t\\t<Value value=\"Columbia\"/>\\n\\t\\t\\t<Value value=\"Poland\"/>\\n\\t\\t\\t<Value value=\"Haiti\"/>\\n\\t\\t\\t<Value value=\"Portugal\"/>\\n\\t\\t\\t<Value value=\"Iran\"/>\\n\\t\\t\\t<Value value=\"Taiwan\"/>\\n\\t\\t\\t<Value value=\"Greece\"/>\\n\\t\\t\\t<Value value=\"Nicaragua\"/>\\n\\t\\t\\t<Value value=\"Peru\"/>\\n\\t\\t\\t<Value value=\"Ecuador\"/>\\n\\t\\t\\t<Value value=\"Ireland\"/>\\n\\t\\t\\t<Value value=\"France\"/>\\n\\t\\t\\t<Value value=\"Thailand\"/>\\n\\t\\t\\t<Value value=\"Hong\"/>\\n\\t\\t\\t<Value value=\"Trinadad&amp;Tobago\"/>\\n\\t\\t\\t<Value value=\"Cambodia\"/>\\n\\t\\t\\t<Value value=\"Yugoslavia\"/>\\n\\t\\t\\t<Value value=\"Outlying-US(Guam-USVI-etc)\"/>\\n\\t\\t\\t<Value value=\"Laos\"/>\\n\\t\\t\\t<Value value=\"Scotland\"/>\\n\\t\\t\\t<Value value=\"Honduras\"/>\\n\\t\\t\\t<Value value=\"Hungary\"/>\\n\\t\\t\\t<Value value=\"Holand-Netherlands\"/>\\n\\t\\t</DataField>\\n\\t\\t<DataField name=\"age\" optype=\"continuous\" dataType=\"integer\"/>\\n\\t\\t<DataField name=\"education_num\" optype=\"continuous\" dataType=\"integer\"/>\\n\\t\\t<DataField name=\"capital_gain\" optype=\"continuous\" dataType=\"integer\"/>\\n\\t\\t<DataField name=\"capital_loss\" optype=\"continuous\" dataType=\"integer\"/>\\n\\t\\t<DataField name=\"hours_per_week\" optype=\"continuous\" dataType=\"integer\"/>\\n\\t</DataDictionary>\\n\\t<TreeModel functionName=\"classification\" splitCharacteristic=\"binarySplit\">\\n\\t\\t<MiningSchema>\\n\\t\\t\\t<MiningField name=\"income\" usageType=\"target\"/>\\n\\t\\t\\t<MiningField name=\"workclass\"/>\\n\\t\\t\\t<MiningField name=\"education\"/>\\n\\t\\t\\t<MiningField name=\"marital_status\"/>\\n\\t\\t\\t<MiningField name=\"occupation\"/>\\n\\t\\t\\t<MiningField name=\"native_country\"/>\\n\\t\\t\\t<MiningField name=\"age\"/>\\n\\t\\t\\t<MiningField name=\"education_num\"/>\\n\\t\\t\\t<MiningField name=\"capital_gain\"/>\\n\\t\\t\\t<MiningField name=\"capital_loss\"/>\\n\\t\\t\\t<MiningField name=\"hours_per_week\"/>\\n\\t\\t</MiningSchema>\\n\\t\\t<Output>\\n\\t\\t\\t<OutputField name=\"probability_&lt;=50K\" dataType=\"double\" feature=\"probability\" value=\"&lt;=50K\"/>\\n\\t\\t\\t<OutputField name=\"probability_&gt;50K\" dataType=\"double\" feature=\"probability\" value=\"&gt;50K\"/>\\n\\t\\t</Output>\\n\\t\\t<Node score=\"&lt;=50K\" recordCount=\"45222.0\">\\n\\t\\t\\t<True/>\\n\\t\\t\\t<ScoreDistribution value=\"&lt;=50K\" recordCount=\"34014.0\"/>\\n\\t\\t\\t<ScoreDistribution value=\"&gt;50K\" recordCount=\"11208.0\"/>\\n\\t\\t\\t<Node score=\"&lt;=50K\" recordCount=\"24167.0\">\\n\\t\\t\\t\\t<SimplePredicate field=\"marital_status\" operator=\"notEqual\" value=\"Married-civ-spouse\"/>\\n\\t\\t\\t\\t<ScoreDistribution value=\"&lt;=50K\" recordCount=\"22523.0\"/>\\n\\t\\t\\t\\t<ScoreDistribution value=\"&gt;50K\" recordCount=\"1644.0\"/>\\n\\t\\t\\t\\t<Node score=\"&lt;=50K\" recordCount=\"23744.0\">\\n\\t\\t\\t\\t\\t<SimplePredicate field=\"capital_gain\" operator=\"lessOrEqual\" value=\"7443\"/>\\n\\t\\t\\t\\t\\t<ScoreDistribution value=\"&lt;=50K\" recordCount=\"22516.0\"/>\\n\\t\\t\\t\\t\\t<ScoreDistribution value=\"&gt;50K\" recordCount=\"1228.0\"/>\\n\\t\\t\\t\\t\\t<Node score=\"&lt;=50K\" recordCount=\"22397.0\">\\n\\t\\t\\t\\t\\t\\t<SimplePredicate field=\"education_num\" operator=\"lessOrEqual\" value=\"13\"/>\\n\\t\\t\\t\\t\\t\\t<ScoreDistribution value=\"&lt;=50K\" recordCount=\"21525.0\"/>\\n\\t\\t\\t\\t\\t\\t<ScoreDistribution value=\"&gt;50K\" recordCount=\"872.0\"/>\\n\\t\\t\\t\\t\\t\\t<Node score=\"&lt;=50K\" recordCount=\"17985.0\">\\n\\t\\t\\t\\t\\t\\t\\t<SimplePredicate field=\"hours_per_week\" operator=\"lessOrEqual\" value=\"42\"/>\\n\\t\\t\\t\\t\\t\\t\\t<ScoreDistribution value=\"&lt;=50K\" recordCount=\"17578.0\"/>\\n\\t\\t\\t\\t\\t\\t\\t<ScoreDistribution value=\"&gt;50K\" recordCount=\"407.0\"/>\\n\\t\\t\\t\\t\\t\\t\\t<Node score=\"&lt;=50K\" recordCount=\"10453.0\">\\n\\t\\t\\t\\t\\t\\t\\t\\t<SimplePredicate field=\"age\" operator=\"lessOrEqual\" value=\"33\"/>\\n\\t\\t\\t\\t\\t\\t\\t\\t<ScoreDistribution value=\"&lt;=50K\" recordCount=\"10374.0\"/>\\n\\t\\t\\t\\t\\t\\t\\t\\t<ScoreDistribution value=\"&gt;50K\" recordCount=\"79.0\"/>\\n\\t\\t\\t\\t\\t\\t\\t</Node>\\n\\t\\t\\t\\t\\t\\t\\t<Node score=\"&lt;=50K\" recordCount=\"7532.0\">\\n\\t\\t\\t\\t\\t\\t\\t\\t<SimplePredicate field=\"age\" operator=\"greaterThan\" value=\"33\"/>\\n\\t\\t\\t\\t\\t\\t\\t\\t<ScoreDistribution value=\"&lt;=50K\" recordCount=\"7204.0\"/>\\n\\t\\t\\t\\t\\t\\t\\t\\t<ScoreDistribution value=\"&gt;50K\" recordCount=\"328.0\"/>\\n\\t\\t\\t\\t\\t\\t\\t</Node>\\n\\t\\t\\t\\t\\t\\t</Node>\\n\\t\\t\\t\\t\\t\\t<Node score=\"&lt;=50K\" recordCount=\"4412.0\">\\n\\t\\t\\t\\t\\t\\t\\t<SimplePredicate field=\"hours_per_week\" operator=\"greaterThan\" value=\"42\"/>\\n\\t\\t\\t\\t\\t\\t\\t<ScoreDistribution value=\"&lt;=50K\" recordCount=\"3947.0\"/>\\n\\t\\t\\t\\t\\t\\t\\t<ScoreDistribution value=\"&gt;50K\" recordCount=\"465.0\"/>\\n\\t\\t\\t\\t\\t\\t\\t<Node score=\"&lt;=50K\" recordCount=\"3327.0\">\\n\\t\\t\\t\\t\\t\\t\\t\\t<SimplePredicate field=\"education\" operator=\"notEqual\" value=\"Bachelors\"/>\\n\\t\\t\\t\\t\\t\\t\\t\\t<ScoreDistribution value=\"&lt;=50K\" recordCount=\"3098.0\"/>\\n\\t\\t\\t\\t\\t\\t\\t\\t<ScoreDistribution value=\"&gt;50K\" recordCount=\"229.0\"/>\\n\\t\\t\\t\\t\\t\\t\\t</Node>\\n\\t\\t\\t\\t\\t\\t\\t<Node score=\"&lt;=50K\" recordCount=\"1085.0\">\\n\\t\\t\\t\\t\\t\\t\\t\\t<SimplePredicate field=\"education\" operator=\"equal\" value=\"Bachelors\"/>\\n\\t\\t\\t\\t\\t\\t\\t\\t<ScoreDistribution value=\"&lt;=50K\" recordCount=\"849.0\"/>\\n\\t\\t\\t\\t\\t\\t\\t\\t<ScoreDistribution value=\"&gt;50K\" recordCount=\"236.0\"/>\\n\\t\\t\\t\\t\\t\\t\\t</Node>\\n\\t\\t\\t\\t\\t\\t</Node>\\n\\t\\t\\t\\t\\t</Node>\\n\\t\\t\\t\\t\\t<Node score=\"&lt;=50K\" recordCount=\"1347.0\">\\n\\t\\t\\t\\t\\t\\t<SimplePredicate field=\"education_num\" operator=\"greaterThan\" value=\"13\"/>\\n\\t\\t\\t\\t\\t\\t<ScoreDistribution value=\"&lt;=50K\" recordCount=\"991.0\"/>\\n\\t\\t\\t\\t\\t\\t<ScoreDistribution value=\"&gt;50K\" recordCount=\"356.0\"/>\\n\\t\\t\\t\\t\\t\\t<Node score=\"&lt;=50K\" recordCount=\"813.0\">\\n\\t\\t\\t\\t\\t\\t\\t<SimplePredicate field=\"hours_per_week\" operator=\"lessOrEqual\" value=\"43\"/>\\n\\t\\t\\t\\t\\t\\t\\t<ScoreDistribution value=\"&lt;=50K\" recordCount=\"667.0\"/>\\n\\t\\t\\t\\t\\t\\t\\t<ScoreDistribution value=\"&gt;50K\" recordCount=\"146.0\"/>\\n\\t\\t\\t\\t\\t\\t\\t<Node score=\"&lt;=50K\" recordCount=\"210.0\">\\n\\t\\t\\t\\t\\t\\t\\t\\t<SimplePredicate field=\"age\" operator=\"lessOrEqual\" value=\"32\"/>\\n\\t\\t\\t\\t\\t\\t\\t\\t<ScoreDistribution value=\"&lt;=50K\" recordCount=\"200.0\"/>\\n\\t\\t\\t\\t\\t\\t\\t\\t<ScoreDistribution value=\"&gt;50K\" recordCount=\"10.0\"/>\\n\\t\\t\\t\\t\\t\\t\\t</Node>\\n\\t\\t\\t\\t\\t\\t\\t<Node score=\"&lt;=50K\" recordCount=\"603.0\">\\n\\t\\t\\t\\t\\t\\t\\t\\t<SimplePredicate field=\"age\" operator=\"greaterThan\" value=\"32\"/>\\n\\t\\t\\t\\t\\t\\t\\t\\t<ScoreDistribution value=\"&lt;=50K\" recordCount=\"467.0\"/>\\n\\t\\t\\t\\t\\t\\t\\t\\t<ScoreDistribution value=\"&gt;50K\" recordCount=\"136.0\"/>\\n\\t\\t\\t\\t\\t\\t\\t</Node>\\n\\t\\t\\t\\t\\t\\t</Node>\\n\\t\\t\\t\\t\\t\\t<Node score=\"&lt;=50K\" recordCount=\"534.0\">\\n\\t\\t\\t\\t\\t\\t\\t<SimplePredicate field=\"hours_per_week\" operator=\"greaterThan\" value=\"43\"/>\\n\\t\\t\\t\\t\\t\\t\\t<ScoreDistribution value=\"&lt;=50K\" recordCount=\"324.0\"/>\\n\\t\\t\\t\\t\\t\\t\\t<ScoreDistribution value=\"&gt;50K\" recordCount=\"210.0\"/>\\n\\t\\t\\t\\t\\t\\t\\t<Node score=\"&lt;=50K\" recordCount=\"133.0\">\\n\\t\\t\\t\\t\\t\\t\\t\\t<SimplePredicate field=\"age\" operator=\"lessOrEqual\" value=\"32\"/>\\n\\t\\t\\t\\t\\t\\t\\t\\t<ScoreDistribution value=\"&lt;=50K\" recordCount=\"110.0\"/>\\n\\t\\t\\t\\t\\t\\t\\t\\t<ScoreDistribution value=\"&gt;50K\" recordCount=\"23.0\"/>\\n\\t\\t\\t\\t\\t\\t\\t</Node>\\n\\t\\t\\t\\t\\t\\t\\t<Node score=\"&lt;=50K\" recordCount=\"401.0\">\\n\\t\\t\\t\\t\\t\\t\\t\\t<SimplePredicate field=\"age\" operator=\"greaterThan\" value=\"32\"/>\\n\\t\\t\\t\\t\\t\\t\\t\\t<ScoreDistribution value=\"&lt;=50K\" recordCount=\"214.0\"/>\\n\\t\\t\\t\\t\\t\\t\\t\\t<ScoreDistribution value=\"&gt;50K\" recordCount=\"187.0\"/>\\n\\t\\t\\t\\t\\t\\t\\t</Node>\\n\\t\\t\\t\\t\\t\\t</Node>\\n\\t\\t\\t\\t\\t</Node>\\n\\t\\t\\t\\t</Node>\\n\\t\\t\\t\\t<Node score=\"&gt;50K\" recordCount=\"423.0\">\\n\\t\\t\\t\\t\\t<SimplePredicate field=\"capital_gain\" operator=\"greaterThan\" value=\"7443\"/>\\n\\t\\t\\t\\t\\t<ScoreDistribution value=\"&lt;=50K\" recordCount=\"7.0\"/>\\n\\t\\t\\t\\t\\t<ScoreDistribution value=\"&gt;50K\" recordCount=\"416.0\"/>\\n\\t\\t\\t\\t\\t<Node score=\"&lt;=50K\" recordCount=\"4.0\">\\n\\t\\t\\t\\t\\t\\t<SimplePredicate field=\"age\" operator=\"lessOrEqual\" value=\"20\"/>\\n\\t\\t\\t\\t\\t\\t<ScoreDistribution value=\"&lt;=50K\" recordCount=\"3.0\"/>\\n\\t\\t\\t\\t\\t\\t<ScoreDistribution value=\"&gt;50K\" recordCount=\"1.0\"/>\\n\\t\\t\\t\\t\\t\\t<Node score=\"&lt;=50K\" recordCount=\"3.0\">\\n\\t\\t\\t\\t\\t\\t\\t<SimplePredicate field=\"education\" operator=\"notEqual\" value=\"Some-college\"/>\\n\\t\\t\\t\\t\\t\\t\\t<ScoreDistribution value=\"&lt;=50K\" recordCount=\"3.0\"/>\\n\\t\\t\\t\\t\\t\\t</Node>\\n\\t\\t\\t\\t\\t\\t<Node score=\"&gt;50K\" recordCount=\"1.0\">\\n\\t\\t\\t\\t\\t\\t\\t<SimplePredicate field=\"education\" operator=\"equal\" value=\"Some-college\"/>\\n\\t\\t\\t\\t\\t\\t\\t<ScoreDistribution value=\"&gt;50K\" recordCount=\"1.0\"/>\\n\\t\\t\\t\\t\\t\\t</Node>\\n\\t\\t\\t\\t\\t</Node>\\n\\t\\t\\t\\t\\t<Node score=\"&gt;50K\" recordCount=\"419.0\">\\n\\t\\t\\t\\t\\t\\t<SimplePredicate field=\"age\" operator=\"greaterThan\" value=\"20\"/>\\n\\t\\t\\t\\t\\t\\t<ScoreDistribution value=\"&lt;=50K\" recordCount=\"4.0\"/>\\n\\t\\t\\t\\t\\t\\t<ScoreDistribution value=\"&gt;50K\" recordCount=\"415.0\"/>\\n\\t\\t\\t\\t\\t\\t<Node score=\"&gt;50K\" recordCount=\"4.0\">\\n\\t\\t\\t\\t\\t\\t\\t<SimplePredicate field=\"occupation\" operator=\"equal\" value=\"Protective-serv\"/>\\n\\t\\t\\t\\t\\t\\t\\t<ScoreDistribution value=\"&lt;=50K\" recordCount=\"1.0\"/>\\n\\t\\t\\t\\t\\t\\t\\t<ScoreDistribution value=\"&gt;50K\" recordCount=\"3.0\"/>\\n\\t\\t\\t\\t\\t\\t\\t<Node score=\"&gt;50K\" recordCount=\"3.0\">\\n\\t\\t\\t\\t\\t\\t\\t\\t<SimplePredicate field=\"age\" operator=\"lessOrEqual\" value=\"37\"/>\\n\\t\\t\\t\\t\\t\\t\\t\\t<ScoreDistribution value=\"&gt;50K\" recordCount=\"3.0\"/>\\n\\t\\t\\t\\t\\t\\t\\t</Node>\\n\\t\\t\\t\\t\\t\\t\\t<Node score=\"&lt;=50K\" recordCount=\"1.0\">\\n\\t\\t\\t\\t\\t\\t\\t\\t<SimplePredicate field=\"age\" operator=\"greaterThan\" value=\"37\"/>\\n\\t\\t\\t\\t\\t\\t\\t\\t<ScoreDistribution value=\"&lt;=50K\" recordCount=\"1.0\"/>\\n\\t\\t\\t\\t\\t\\t\\t</Node>\\n\\t\\t\\t\\t\\t\\t</Node>\\n\\t\\t\\t\\t\\t\\t<Node score=\"&gt;50K\" recordCount=\"415.0\">\\n\\t\\t\\t\\t\\t\\t\\t<SimplePredicate field=\"occupation\" operator=\"notEqual\" value=\"Protective-serv\"/>\\n\\t\\t\\t\\t\\t\\t\\t<ScoreDistribution value=\"&lt;=50K\" recordCount=\"3.0\"/>\\n\\t\\t\\t\\t\\t\\t\\t<ScoreDistribution value=\"&gt;50K\" recordCount=\"412.0\"/>\\n\\t\\t\\t\\t\\t\\t\\t<Node score=\"&gt;50K\" recordCount=\"344.0\">\\n\\t\\t\\t\\t\\t\\t\\t\\t<SimplePredicate field=\"age\" operator=\"lessOrEqual\" value=\"54\"/>\\n\\t\\t\\t\\t\\t\\t\\t\\t<ScoreDistribution value=\"&gt;50K\" recordCount=\"344.0\"/>\\n\\t\\t\\t\\t\\t\\t\\t</Node>\\n\\t\\t\\t\\t\\t\\t\\t<Node score=\"&gt;50K\" recordCount=\"71.0\">\\n\\t\\t\\t\\t\\t\\t\\t\\t<SimplePredicate field=\"age\" operator=\"greaterThan\" value=\"54\"/>\\n\\t\\t\\t\\t\\t\\t\\t\\t<ScoreDistribution value=\"&lt;=50K\" recordCount=\"3.0\"/>\\n\\t\\t\\t\\t\\t\\t\\t\\t<ScoreDistribution value=\"&gt;50K\" recordCount=\"68.0\"/>\\n\\t\\t\\t\\t\\t\\t\\t</Node>\\n\\t\\t\\t\\t\\t\\t</Node>\\n\\t\\t\\t\\t\\t</Node>\\n\\t\\t\\t\\t</Node>\\n\\t\\t\\t</Node>\\n\\t\\t\\t<Node score=\"&lt;=50K\" recordCount=\"21055.0\">\\n\\t\\t\\t\\t<SimplePredicate field=\"marital_status\" operator=\"equal\" value=\"Married-civ-spouse\"/>\\n\\t\\t\\t\\t<ScoreDistribution value=\"&lt;=50K\" recordCount=\"11491.0\"/>\\n\\t\\t\\t\\t<ScoreDistribution value=\"&gt;50K\" recordCount=\"9564.0\"/>\\n\\t\\t\\t\\t<Node score=\"&lt;=50K\" recordCount=\"14790.0\">\\n\\t\\t\\t\\t\\t<SimplePredicate field=\"education_num\" operator=\"lessOrEqual\" value=\"12\"/>\\n\\t\\t\\t\\t\\t<ScoreDistribution value=\"&lt;=50K\" recordCount=\"9782.0\"/>\\n\\t\\t\\t\\t\\t<ScoreDistribution value=\"&gt;50K\" recordCount=\"5008.0\"/>\\n\\t\\t\\t\\t\\t<Node score=\"&lt;=50K\" recordCount=\"13719.0\">\\n\\t\\t\\t\\t\\t\\t<SimplePredicate field=\"capital_gain\" operator=\"lessOrEqual\" value=\"3456\"/>\\n\\t\\t\\t\\t\\t\\t<ScoreDistribution value=\"&lt;=50K\" recordCount=\"9500.0\"/>\\n\\t\\t\\t\\t\\t\\t<ScoreDistribution value=\"&gt;50K\" recordCount=\"4219.0\"/>\\n\\t\\t\\t\\t\\t\\t<Node score=\"&lt;=50K\" recordCount=\"2246.0\">\\n\\t\\t\\t\\t\\t\\t\\t<SimplePredicate field=\"education_num\" operator=\"lessOrEqual\" value=\"8\"/>\\n\\t\\t\\t\\t\\t\\t\\t<ScoreDistribution value=\"&lt;=50K\" recordCount=\"2007.0\"/>\\n\\t\\t\\t\\t\\t\\t\\t<ScoreDistribution value=\"&gt;50K\" recordCount=\"239.0\"/>\\n\\t\\t\\t\\t\\t\\t\\t<Node score=\"&lt;=50K\" recordCount=\"1695.0\">\\n\\t\\t\\t\\t\\t\\t\\t\\t<SimplePredicate field=\"hours_per_week\" operator=\"lessOrEqual\" value=\"43\"/>\\n\\t\\t\\t\\t\\t\\t\\t\\t<ScoreDistribution value=\"&lt;=50K\" recordCount=\"1559.0\"/>\\n\\t\\t\\t\\t\\t\\t\\t\\t<ScoreDistribution value=\"&gt;50K\" recordCount=\"136.0\"/>\\n\\t\\t\\t\\t\\t\\t\\t</Node>\\n\\t\\t\\t\\t\\t\\t\\t<Node score=\"&lt;=50K\" recordCount=\"551.0\">\\n\\t\\t\\t\\t\\t\\t\\t\\t<SimplePredicate field=\"hours_per_week\" operator=\"greaterThan\" value=\"43\"/>\\n\\t\\t\\t\\t\\t\\t\\t\\t<ScoreDistribution value=\"&lt;=50K\" recordCount=\"448.0\"/>\\n\\t\\t\\t\\t\\t\\t\\t\\t<ScoreDistribution value=\"&gt;50K\" recordCount=\"103.0\"/>\\n\\t\\t\\t\\t\\t\\t\\t</Node>\\n\\t\\t\\t\\t\\t\\t</Node>\\n\\t\\t\\t\\t\\t\\t<Node score=\"&lt;=50K\" recordCount=\"11473.0\">\\n\\t\\t\\t\\t\\t\\t\\t<SimplePredicate field=\"education_num\" operator=\"greaterThan\" value=\"8\"/>\\n\\t\\t\\t\\t\\t\\t\\t<ScoreDistribution value=\"&lt;=50K\" recordCount=\"7493.0\"/>\\n\\t\\t\\t\\t\\t\\t\\t<ScoreDistribution value=\"&gt;50K\" recordCount=\"3980.0\"/>\\n\\t\\t\\t\\t\\t\\t\\t<Node score=\"&lt;=50K\" recordCount=\"11001.0\">\\n\\t\\t\\t\\t\\t\\t\\t\\t<SimplePredicate field=\"capital_loss\" operator=\"lessOrEqual\" value=\"1844\"/>\\n\\t\\t\\t\\t\\t\\t\\t\\t<ScoreDistribution value=\"&lt;=50K\" recordCount=\"7385.0\"/>\\n\\t\\t\\t\\t\\t\\t\\t\\t<ScoreDistribution value=\"&gt;50K\" recordCount=\"3616.0\"/>\\n\\t\\t\\t\\t\\t\\t\\t</Node>\\n\\t\\t\\t\\t\\t\\t\\t<Node score=\"&gt;50K\" recordCount=\"472.0\">\\n\\t\\t\\t\\t\\t\\t\\t\\t<SimplePredicate field=\"capital_loss\" operator=\"greaterThan\" value=\"1844\"/>\\n\\t\\t\\t\\t\\t\\t\\t\\t<ScoreDistribution value=\"&lt;=50K\" recordCount=\"108.0\"/>\\n\\t\\t\\t\\t\\t\\t\\t\\t<ScoreDistribution value=\"&gt;50K\" recordCount=\"364.0\"/>\\n\\t\\t\\t\\t\\t\\t\\t</Node>\\n\\t\\t\\t\\t\\t\\t</Node>\\n\\t\\t\\t\\t\\t</Node>\\n\\t\\t\\t\\t\\t<Node score=\"&gt;50K\" recordCount=\"1071.0\">\\n\\t\\t\\t\\t\\t\\t<SimplePredicate field=\"capital_gain\" operator=\"greaterThan\" value=\"3456\"/>\\n\\t\\t\\t\\t\\t\\t<ScoreDistribution value=\"&lt;=50K\" recordCount=\"282.0\"/>\\n\\t\\t\\t\\t\\t\\t<ScoreDistribution value=\"&gt;50K\" recordCount=\"789.0\"/>\\n\\t\\t\\t\\t\\t\\t<Node score=\"&gt;50K\" recordCount=\"665.0\">\\n\\t\\t\\t\\t\\t\\t\\t<SimplePredicate field=\"capital_gain\" operator=\"lessOrEqual\" value=\"7443\"/>\\n\\t\\t\\t\\t\\t\\t\\t<ScoreDistribution value=\"&lt;=50K\" recordCount=\"272.0\"/>\\n\\t\\t\\t\\t\\t\\t\\t<ScoreDistribution value=\"&gt;50K\" recordCount=\"393.0\"/>\\n\\t\\t\\t\\t\\t\\t\\t<Node score=\"&gt;50K\" recordCount=\"381.0\">\\n\\t\\t\\t\\t\\t\\t\\t\\t<SimplePredicate field=\"education_num\" operator=\"lessOrEqual\" value=\"9\"/>\\n\\t\\t\\t\\t\\t\\t\\t\\t<ScoreDistribution value=\"&lt;=50K\" recordCount=\"183.0\"/>\\n\\t\\t\\t\\t\\t\\t\\t\\t<ScoreDistribution value=\"&gt;50K\" recordCount=\"198.0\"/>\\n\\t\\t\\t\\t\\t\\t\\t</Node>\\n\\t\\t\\t\\t\\t\\t\\t<Node score=\"&gt;50K\" recordCount=\"284.0\">\\n\\t\\t\\t\\t\\t\\t\\t\\t<SimplePredicate field=\"education_num\" operator=\"greaterThan\" value=\"9\"/>\\n\\t\\t\\t\\t\\t\\t\\t\\t<ScoreDistribution value=\"&lt;=50K\" recordCount=\"89.0\"/>\\n\\t\\t\\t\\t\\t\\t\\t\\t<ScoreDistribution value=\"&gt;50K\" recordCount=\"195.0\"/>\\n\\t\\t\\t\\t\\t\\t\\t</Node>\\n\\t\\t\\t\\t\\t\\t</Node>\\n\\t\\t\\t\\t\\t\\t<Node score=\"&gt;50K\" recordCount=\"406.0\">\\n\\t\\t\\t\\t\\t\\t\\t<SimplePredicate field=\"capital_gain\" operator=\"greaterThan\" value=\"7443\"/>\\n\\t\\t\\t\\t\\t\\t\\t<ScoreDistribution value=\"&lt;=50K\" recordCount=\"10.0\"/>\\n\\t\\t\\t\\t\\t\\t\\t<ScoreDistribution value=\"&gt;50K\" recordCount=\"396.0\"/>\\n\\t\\t\\t\\t\\t\\t\\t<Node score=\"&lt;=50K\" recordCount=\"1.0\">\\n\\t\\t\\t\\t\\t\\t\\t\\t<SimplePredicate field=\"education_num\" operator=\"lessOrEqual\" value=\"1\"/>\\n\\t\\t\\t\\t\\t\\t\\t\\t<ScoreDistribution value=\"&lt;=50K\" recordCount=\"1.0\"/>\\n\\t\\t\\t\\t\\t\\t\\t</Node>\\n\\t\\t\\t\\t\\t\\t\\t<Node score=\"&gt;50K\" recordCount=\"405.0\">\\n\\t\\t\\t\\t\\t\\t\\t\\t<SimplePredicate field=\"education_num\" operator=\"greaterThan\" value=\"1\"/>\\n\\t\\t\\t\\t\\t\\t\\t\\t<ScoreDistribution value=\"&lt;=50K\" recordCount=\"9.0\"/>\\n\\t\\t\\t\\t\\t\\t\\t\\t<ScoreDistribution value=\"&gt;50K\" recordCount=\"396.0\"/>\\n\\t\\t\\t\\t\\t\\t\\t</Node>\\n\\t\\t\\t\\t\\t\\t</Node>\\n\\t\\t\\t\\t\\t</Node>\\n\\t\\t\\t\\t</Node>\\n\\t\\t\\t\\t<Node score=\"&gt;50K\" recordCount=\"6265.0\">\\n\\t\\t\\t\\t\\t<SimplePredicate field=\"education_num\" operator=\"greaterThan\" value=\"12\"/>\\n\\t\\t\\t\\t\\t<ScoreDistribution value=\"&lt;=50K\" recordCount=\"1709.0\"/>\\n\\t\\t\\t\\t\\t<ScoreDistribution value=\"&gt;50K\" recordCount=\"4556.0\"/>\\n\\t\\t\\t\\t\\t<Node score=\"&gt;50K\" recordCount=\"5506.0\">\\n\\t\\t\\t\\t\\t\\t<SimplePredicate field=\"capital_gain\" operator=\"lessOrEqual\" value=\"7443\"/>\\n\\t\\t\\t\\t\\t\\t<ScoreDistribution value=\"&lt;=50K\" recordCount=\"1707.0\"/>\\n\\t\\t\\t\\t\\t\\t<ScoreDistribution value=\"&gt;50K\" recordCount=\"3799.0\"/>\\n\\t\\t\\t\\t\\t\\t<Node score=\"&gt;50K\" recordCount=\"4953.0\">\\n\\t\\t\\t\\t\\t\\t\\t<SimplePredicate field=\"capital_loss\" operator=\"lessOrEqual\" value=\"1844\"/>\\n\\t\\t\\t\\t\\t\\t\\t<ScoreDistribution value=\"&lt;=50K\" recordCount=\"1690.0\"/>\\n\\t\\t\\t\\t\\t\\t\\t<ScoreDistribution value=\"&gt;50K\" recordCount=\"3263.0\"/>\\n\\t\\t\\t\\t\\t\\t\\t<Node score=\"&lt;=50K\" recordCount=\"374.0\">\\n\\t\\t\\t\\t\\t\\t\\t\\t<SimplePredicate field=\"hours_per_week\" operator=\"lessOrEqual\" value=\"30\"/>\\n\\t\\t\\t\\t\\t\\t\\t\\t<ScoreDistribution value=\"&lt;=50K\" recordCount=\"226.0\"/>\\n\\t\\t\\t\\t\\t\\t\\t\\t<ScoreDistribution value=\"&gt;50K\" recordCount=\"148.0\"/>\\n\\t\\t\\t\\t\\t\\t\\t</Node>\\n\\t\\t\\t\\t\\t\\t\\t<Node score=\"&gt;50K\" recordCount=\"4579.0\">\\n\\t\\t\\t\\t\\t\\t\\t\\t<SimplePredicate field=\"hours_per_week\" operator=\"greaterThan\" value=\"30\"/>\\n\\t\\t\\t\\t\\t\\t\\t\\t<ScoreDistribution value=\"&lt;=50K\" recordCount=\"1464.0\"/>\\n\\t\\t\\t\\t\\t\\t\\t\\t<ScoreDistribution value=\"&gt;50K\" recordCount=\"3115.0\"/>\\n\\t\\t\\t\\t\\t\\t\\t</Node>\\n\\t\\t\\t\\t\\t\\t</Node>\\n\\t\\t\\t\\t\\t\\t<Node score=\"&gt;50K\" recordCount=\"553.0\">\\n\\t\\t\\t\\t\\t\\t\\t<SimplePredicate field=\"capital_loss\" operator=\"greaterThan\" value=\"1844\"/>\\n\\t\\t\\t\\t\\t\\t\\t<ScoreDistribution value=\"&lt;=50K\" recordCount=\"17.0\"/>\\n\\t\\t\\t\\t\\t\\t\\t<ScoreDistribution value=\"&gt;50K\" recordCount=\"536.0\"/>\\n\\t\\t\\t\\t\\t\\t\\t<Node score=\"&lt;=50K\" recordCount=\"2.0\">\\n\\t\\t\\t\\t\\t\\t\\t\\t<SimplePredicate field=\"native_country\" operator=\"equal\" value=\"Iran\"/>\\n\\t\\t\\t\\t\\t\\t\\t\\t<ScoreDistribution value=\"&lt;=50K\" recordCount=\"1.0\"/>\\n\\t\\t\\t\\t\\t\\t\\t\\t<ScoreDistribution value=\"&gt;50K\" recordCount=\"1.0\"/>\\n\\t\\t\\t\\t\\t\\t\\t</Node>\\n\\t\\t\\t\\t\\t\\t\\t<Node score=\"&gt;50K\" recordCount=\"551.0\">\\n\\t\\t\\t\\t\\t\\t\\t\\t<SimplePredicate field=\"native_country\" operator=\"notEqual\" value=\"Iran\"/>\\n\\t\\t\\t\\t\\t\\t\\t\\t<ScoreDistribution value=\"&lt;=50K\" recordCount=\"16.0\"/>\\n\\t\\t\\t\\t\\t\\t\\t\\t<ScoreDistribution value=\"&gt;50K\" recordCount=\"535.0\"/>\\n\\t\\t\\t\\t\\t\\t\\t</Node>\\n\\t\\t\\t\\t\\t\\t</Node>\\n\\t\\t\\t\\t\\t</Node>\\n\\t\\t\\t\\t\\t<Node score=\"&gt;50K\" recordCount=\"759.0\">\\n\\t\\t\\t\\t\\t\\t<SimplePredicate field=\"capital_gain\" operator=\"greaterThan\" value=\"7443\"/>\\n\\t\\t\\t\\t\\t\\t<ScoreDistribution value=\"&lt;=50K\" recordCount=\"2.0\"/>\\n\\t\\t\\t\\t\\t\\t<ScoreDistribution value=\"&gt;50K\" recordCount=\"757.0\"/>\\n\\t\\t\\t\\t\\t\\t<Node score=\"&gt;50K\" recordCount=\"6.0\">\\n\\t\\t\\t\\t\\t\\t\\t<SimplePredicate field=\"occupation\" operator=\"equal\" value=\"Farming-fishing\"/>\\n\\t\\t\\t\\t\\t\\t\\t<ScoreDistribution value=\"&lt;=50K\" recordCount=\"1.0\"/>\\n\\t\\t\\t\\t\\t\\t\\t<ScoreDistribution value=\"&gt;50K\" recordCount=\"5.0\"/>\\n\\t\\t\\t\\t\\t\\t\\t<Node score=\"&lt;=50K\" recordCount=\"1.0\">\\n\\t\\t\\t\\t\\t\\t\\t\\t<SimplePredicate field=\"workclass\" operator=\"equal\" value=\"Self-emp-not-inc\"/>\\n\\t\\t\\t\\t\\t\\t\\t\\t<ScoreDistribution value=\"&lt;=50K\" recordCount=\"1.0\"/>\\n\\t\\t\\t\\t\\t\\t\\t</Node>\\n\\t\\t\\t\\t\\t\\t\\t<Node score=\"&gt;50K\" recordCount=\"5.0\">\\n\\t\\t\\t\\t\\t\\t\\t\\t<SimplePredicate field=\"workclass\" operator=\"notEqual\" value=\"Self-emp-not-inc\"/>\\n\\t\\t\\t\\t\\t\\t\\t\\t<ScoreDistribution value=\"&gt;50K\" recordCount=\"5.0\"/>\\n\\t\\t\\t\\t\\t\\t\\t</Node>\\n\\t\\t\\t\\t\\t\\t</Node>\\n\\t\\t\\t\\t\\t\\t<Node score=\"&gt;50K\" recordCount=\"753.0\">\\n\\t\\t\\t\\t\\t\\t\\t<SimplePredicate field=\"occupation\" operator=\"notEqual\" value=\"Farming-fishing\"/>\\n\\t\\t\\t\\t\\t\\t\\t<ScoreDistribution value=\"&lt;=50K\" recordCount=\"1.0\"/>\\n\\t\\t\\t\\t\\t\\t\\t<ScoreDistribution value=\"&gt;50K\" recordCount=\"752.0\"/>\\n\\t\\t\\t\\t\\t\\t\\t<Node score=\"&gt;50K\" recordCount=\"710.0\">\\n\\t\\t\\t\\t\\t\\t\\t\\t<SimplePredicate field=\"age\" operator=\"lessOrEqual\" value=\"65\"/>\\n\\t\\t\\t\\t\\t\\t\\t\\t<ScoreDistribution value=\"&gt;50K\" recordCount=\"710.0\"/>\\n\\t\\t\\t\\t\\t\\t\\t</Node>\\n\\t\\t\\t\\t\\t\\t\\t<Node score=\"&gt;50K\" recordCount=\"43.0\">\\n\\t\\t\\t\\t\\t\\t\\t\\t<SimplePredicate field=\"age\" operator=\"greaterThan\" value=\"65\"/>\\n\\t\\t\\t\\t\\t\\t\\t\\t<ScoreDistribution value=\"&lt;=50K\" recordCount=\"1.0\"/>\\n\\t\\t\\t\\t\\t\\t\\t\\t<ScoreDistribution value=\"&gt;50K\" recordCount=\"42.0\"/>\\n\\t\\t\\t\\t\\t\\t\\t</Node>\\n\\t\\t\\t\\t\\t\\t</Node>\\n\\t\\t\\t\\t\\t</Node>\\n\\t\\t\\t\\t</Node>\\n\\t\\t\\t</Node>\\n\\t\\t</Node>\\n\\t</TreeModel>\\n</PMML>\\n'"
      ]
     },
     "execution_count": 19,
     "metadata": {},
     "output_type": "execute_result"
    }
   ],
   "source": [
    "from jpmml import toPMMLBytes\n",
    "\n",
    "pmmlBytes = toPMMLBytes(sparkSession, data, pipelineModel)\n",
    "\n",
    "pmmlBytes.decode(\"utf-8\")"
   ]
  },
  {
   "cell_type": "markdown",
   "metadata": {},
   "source": [
    "## Deployment Option 1:  Mutable Model Deployment"
   ]
  },
  {
   "cell_type": "markdown",
   "metadata": {},
   "source": [
    "### Deploy New Model to Live, Running Model Server"
   ]
  },
  {
   "cell_type": "code",
   "execution_count": 59,
   "metadata": {
    "collapsed": false
   },
   "outputs": [
    {
     "name": "stdout",
     "output_type": "stream",
     "text": [
      "200\n"
     ]
    }
   ],
   "source": [
    "from urllib import request\n",
    "\n",
    "update_url = 'http://prediction-pmml-aws.demo.pipeline.io/update-pmml/census'\n",
    "\n",
    "update_headers = {}\n",
    "update_headers['Content-type'] = 'application/xml'\n",
    "\n",
    "req = request.Request(update_url, headers=update_headers, data=pmmlBytes)\n",
    "resp = request.urlopen(req)\n",
    "\n",
    "print(resp.status) # Should return Http Status 200 "
   ]
  },
  {
   "cell_type": "code",
   "execution_count": 60,
   "metadata": {
    "collapsed": false
   },
   "outputs": [
    {
     "name": "stdout",
     "output_type": "stream",
     "text": [
      "200\n"
     ]
    }
   ],
   "source": [
    "from urllib import request\n",
    "\n",
    "update_url = 'http://prediction-pmml-gcp.demo.pipeline.io/update-pmml/census'\n",
    "\n",
    "update_headers = {}\n",
    "update_headers['Content-type'] = 'application/xml'\n",
    "\n",
    "req = request.Request(update_url, headers=update_headers, data=pmmlBytes)\n",
    "resp = request.urlopen(req)\n",
    "\n",
    "print(resp.status) # Should return Http Status 200 "
   ]
  },
  {
   "cell_type": "markdown",
   "metadata": {},
   "source": [
    "### Test New Model on Live, Running Model Server"
   ]
  },
  {
   "cell_type": "code",
   "execution_count": 22,
   "metadata": {
    "collapsed": false
   },
   "outputs": [
    {
     "name": "stdout",
     "output_type": "stream",
     "text": [
      "b'{\"results\":[[{\\'income\\': \\'NodeScoreDistribution{result=<=50K, probability_entries=[<=50K=0.9564524694636218, >50K=0.04354753053637812], entityId=7, confidence_entries=[]}\\'}]]'\n"
     ]
    }
   ],
   "source": [
    "from urllib import request\n",
    "\n",
    "evaluate_url = 'http://prediction-pmml-aws.demo.pipeline.io/evaluate-pmml/census'\n",
    "\n",
    "evaluate_headers = {}\n",
    "evaluate_headers['Content-type'] = 'application/json'\n",
    "input_params = '{\"age\":39,\"workclass\":\"State-gov\",\"education\":\"Bachelors\",\"education_num\":13,\"marital_status\":\"Never-married\",\"occupation\":\"Adm-clerical\",\"relationship\":\"Not-in-family\",\"race\":\"White\",\"sex\":\"Male\",\"capital_gain\":2174,\"capital_loss\":0,\"hours_per_week\":40,\"native_country\":\"United-States\"}' \n",
    "encoded_input_params = input_params.encode('utf-8')\n",
    "\n",
    "req = request.Request(evaluate_url, headers=evaluate_headers, data=encoded_input_params)\n",
    "resp = request.urlopen(req)\n",
    "\n",
    "print(resp.read()) # Should return valid classification with probabilities"
   ]
  },
  {
   "cell_type": "code",
   "execution_count": 23,
   "metadata": {
    "collapsed": false
   },
   "outputs": [
    {
     "name": "stdout",
     "output_type": "stream",
     "text": [
      "b'{\"results\":[[{\\'income\\': \\'NodeScoreDistribution{result=<=50K, probability_entries=[<=50K=0.9564177517937815, >50K=0.04358224820621844], entityId=7, confidence_entries=[]}\\'}]]'\n"
     ]
    }
   ],
   "source": [
    "from urllib import request\n",
    "import json\n",
    "\n",
    "evaluate_url = 'http://prediction-pmml-gcp.demo.pipeline.io/evaluate-pmml/census'\n",
    "\n",
    "evaluate_headers = {}\n",
    "evaluate_headers['Content-type'] = 'application/json'\n",
    "input_params = '{\"age\":39,\"workclass\":\"State-gov\",\"education\":\"Bachelors\",\"education_num\":13,\"marital_status\":\"Never-married\",\"occupation\":\"Adm-clerical\",\"relationship\":\"Not-in-family\",\"race\":\"White\",\"sex\":\"Male\",\"capital_gain\":2174,\"capital_loss\":0,\"hours_per_week\":40,\"native_country\":\"United-States\"}' \n",
    "encoded_input_params = input_params.encode('utf-8')\n",
    "\n",
    "req = request.Request(evaluate_url, headers=evaluate_headers, data=encoded_input_params)\n",
    "resp = request.urlopen(req)\n",
    "\n",
    "print(resp.read()) # Should return valid classification with probabilities"
   ]
  },
  {
   "cell_type": "markdown",
   "metadata": {
    "collapsed": true
   },
   "source": [
    "## Deployment Option 2:  Immutable Model Deployment"
   ]
  },
  {
   "cell_type": "markdown",
   "metadata": {},
   "source": [
    "### Save Model to Disk"
   ]
  },
  {
   "cell_type": "code",
   "execution_count": 24,
   "metadata": {
    "collapsed": false
   },
   "outputs": [
    {
     "name": "stdout",
     "output_type": "stream",
     "text": [
      "<?xml version=\"1.0\" encoding=\"UTF-8\" standalone=\"yes\"?>\r\n",
      "<PMML xmlns=\"http://www.dmg.org/PMML-4_3\" version=\"4.3\">\r\n",
      "\t<Header>\r\n",
      "\t\t<Application/>\r\n",
      "\t\t<Timestamp>2016-11-24T17:55:43Z</Timestamp>\r\n",
      "\t</Header>\r\n",
      "\t<DataDictionary>\r\n",
      "\t\t<DataField name=\"income\" optype=\"categorical\" dataType=\"string\">\r\n",
      "\t\t\t<Value value=\"&lt;=50K\"/>\r\n",
      "\t\t\t<Value value=\"&gt;50K\"/>\r\n",
      "\t\t</DataField>\r\n",
      "\t\t<DataField name=\"workclass\" optype=\"categorical\" dataType=\"string\">\r\n",
      "\t\t\t<Value value=\"Private\"/>\r\n",
      "\t\t\t<Value value=\"Self-emp-not-inc\"/>\r\n",
      "\t\t\t<Value value=\"Local-gov\"/>\r\n",
      "\t\t\t<Value value=\"State-gov\"/>\r\n",
      "\t\t\t<Value value=\"Self-emp-inc\"/>\r\n",
      "\t\t\t<Value value=\"Federal-gov\"/>\r\n",
      "\t\t\t<Value value=\"Without-pay\"/>\r\n",
      "\t\t</DataField>\r\n",
      "\t\t<DataField name=\"education\" optype=\"categorical\" dataType=\"string\">\r\n",
      "\t\t\t<Value value=\"HS-grad\"/>\r\n",
      "\t\t\t<Value value=\"Some-college\"/>\r\n",
      "\t\t\t<Value value=\"Bachelors\"/>\r\n",
      "\t\t\t<Value value=\"Masters\"/>\r\n",
      "\t\t\t<Value value=\"Assoc-voc\"/>\r\n",
      "\t\t\t<Value value=\"11th\"/>\r\n",
      "\t\t\t<Value value=\"Assoc-acdm\"/>\r\n",
      "\t\t\t<Value value=\"10th\"/>\r\n",
      "\t\t\t<Value value=\"7th-8th\"/>\r\n",
      "\t\t\t<Value value=\"Prof-school\"/>\r\n",
      "\t\t\t<Value value=\"9th\"/>\r\n",
      "\t\t\t<Value value=\"12th\"/>\r\n",
      "\t\t\t<Value value=\"Doctorate\"/>\r\n",
      "\t\t\t<Value value=\"5th-6th\"/>\r\n",
      "\t\t\t<Value value=\"1st-4th\"/>\r\n",
      "\t\t\t<Value value=\"Preschool\"/>\r\n",
      "\t\t</DataField>\r\n",
      "\t\t<DataField name=\"marital_status\" optype=\"categorical\" dataType=\"string\">\r\n",
      "\t\t\t<Value value=\"Married-civ-spouse\"/>\r\n",
      "\t\t\t<Value value=\"Never-married\"/>\r\n",
      "\t\t\t<Value value=\"Divorced\"/>\r\n",
      "\t\t\t<Value value=\"Separated\"/>\r\n",
      "\t\t\t<Value value=\"Widowed\"/>\r\n",
      "\t\t\t<Value value=\"Married-spouse-absent\"/>\r\n",
      "\t\t\t<Value value=\"Married-AF-spouse\"/>\r\n",
      "\t\t</DataField>\r\n",
      "\t\t<DataField name=\"occupation\" optype=\"categorical\" dataType=\"string\">\r\n",
      "\t\t\t<Value value=\"Craft-repair\"/>\r\n",
      "\t\t\t<Value value=\"Prof-specialty\"/>\r\n",
      "\t\t\t<Value value=\"Exec-managerial\"/>\r\n",
      "\t\t\t<Value value=\"Adm-clerical\"/>\r\n",
      "\t\t\t<Value value=\"Sales\"/>\r\n",
      "\t\t\t<Value value=\"Other-service\"/>\r\n",
      "\t\t\t<Value value=\"Machine-op-inspct\"/>\r\n",
      "\t\t\t<Value value=\"Transport-moving\"/>\r\n",
      "\t\t\t<Value value=\"Handlers-cleaners\"/>\r\n",
      "\t\t\t<Value value=\"Farming-fishing\"/>\r\n",
      "\t\t\t<Value value=\"Tech-support\"/>\r\n",
      "\t\t\t<Value value=\"Protective-serv\"/>\r\n",
      "\t\t\t<Value value=\"Priv-house-serv\"/>\r\n",
      "\t\t\t<Value value=\"Armed-Forces\"/>\r\n",
      "\t\t</DataField>\r\n",
      "\t\t<DataField name=\"native_country\" optype=\"categorical\" dataType=\"string\">\r\n",
      "\t\t\t<Value value=\"United-States\"/>\r\n",
      "\t\t\t<Value value=\"Mexico\"/>\r\n",
      "\t\t\t<Value value=\"Philippines\"/>\r\n",
      "\t\t\t<Value value=\"Germany\"/>\r\n",
      "\t\t\t<Value value=\"Puerto-Rico\"/>\r\n",
      "\t\t\t<Value value=\"Canada\"/>\r\n",
      "\t\t\t<Value value=\"India\"/>\r\n",
      "\t\t\t<Value value=\"El-Salvador\"/>\r\n",
      "\t\t\t<Value value=\"Cuba\"/>\r\n",
      "\t\t\t<Value value=\"England\"/>\r\n",
      "\t\t\t<Value value=\"China\"/>\r\n",
      "\t\t\t<Value value=\"Jamaica\"/>\r\n",
      "\t\t\t<Value value=\"South\"/>\r\n",
      "\t\t\t<Value value=\"Italy\"/>\r\n",
      "\t\t\t<Value value=\"Dominican-Republic\"/>\r\n",
      "\t\t\t<Value value=\"Japan\"/>\r\n",
      "\t\t\t<Value value=\"Guatemala\"/>\r\n",
      "\t\t\t<Value value=\"Vietnam\"/>\r\n",
      "\t\t\t<Value value=\"Columbia\"/>\r\n",
      "\t\t\t<Value value=\"Poland\"/>\r\n",
      "\t\t\t<Value value=\"Haiti\"/>\r\n",
      "\t\t\t<Value value=\"Portugal\"/>\r\n",
      "\t\t\t<Value value=\"Iran\"/>\r\n",
      "\t\t\t<Value value=\"Taiwan\"/>\r\n",
      "\t\t\t<Value value=\"Greece\"/>\r\n",
      "\t\t\t<Value value=\"Nicaragua\"/>\r\n",
      "\t\t\t<Value value=\"Peru\"/>\r\n",
      "\t\t\t<Value value=\"Ecuador\"/>\r\n",
      "\t\t\t<Value value=\"Ireland\"/>\r\n",
      "\t\t\t<Value value=\"France\"/>\r\n",
      "\t\t\t<Value value=\"Thailand\"/>\r\n",
      "\t\t\t<Value value=\"Hong\"/>\r\n",
      "\t\t\t<Value value=\"Trinadad&amp;Tobago\"/>\r\n",
      "\t\t\t<Value value=\"Cambodia\"/>\r\n",
      "\t\t\t<Value value=\"Yugoslavia\"/>\r\n",
      "\t\t\t<Value value=\"Outlying-US(Guam-USVI-etc)\"/>\r\n",
      "\t\t\t<Value value=\"Laos\"/>\r\n",
      "\t\t\t<Value value=\"Scotland\"/>\r\n",
      "\t\t\t<Value value=\"Honduras\"/>\r\n",
      "\t\t\t<Value value=\"Hungary\"/>\r\n",
      "\t\t\t<Value value=\"Holand-Netherlands\"/>\r\n",
      "\t\t</DataField>\r\n",
      "\t\t<DataField name=\"age\" optype=\"continuous\" dataType=\"integer\"/>\r\n",
      "\t\t<DataField name=\"education_num\" optype=\"continuous\" dataType=\"integer\"/>\r\n",
      "\t\t<DataField name=\"capital_gain\" optype=\"continuous\" dataType=\"integer\"/>\r\n",
      "\t\t<DataField name=\"capital_loss\" optype=\"continuous\" dataType=\"integer\"/>\r\n",
      "\t\t<DataField name=\"hours_per_week\" optype=\"continuous\" dataType=\"integer\"/>\r\n",
      "\t</DataDictionary>\r\n",
      "\t<TreeModel functionName=\"classification\" splitCharacteristic=\"binarySplit\">\r\n",
      "\t\t<MiningSchema>\r\n",
      "\t\t\t<MiningField name=\"income\" usageType=\"target\"/>\r\n",
      "\t\t\t<MiningField name=\"workclass\"/>\r\n",
      "\t\t\t<MiningField name=\"education\"/>\r\n",
      "\t\t\t<MiningField name=\"marital_status\"/>\r\n",
      "\t\t\t<MiningField name=\"occupation\"/>\r\n",
      "\t\t\t<MiningField name=\"native_country\"/>\r\n",
      "\t\t\t<MiningField name=\"age\"/>\r\n",
      "\t\t\t<MiningField name=\"education_num\"/>\r\n",
      "\t\t\t<MiningField name=\"capital_gain\"/>\r\n",
      "\t\t\t<MiningField name=\"capital_loss\"/>\r\n",
      "\t\t\t<MiningField name=\"hours_per_week\"/>\r\n",
      "\t\t</MiningSchema>\r\n",
      "\t\t<Output>\r\n",
      "\t\t\t<OutputField name=\"probability_&lt;=50K\" dataType=\"double\" feature=\"probability\" value=\"&lt;=50K\"/>\r\n",
      "\t\t\t<OutputField name=\"probability_&gt;50K\" dataType=\"double\" feature=\"probability\" value=\"&gt;50K\"/>\r\n",
      "\t\t</Output>\r\n",
      "\t\t<Node score=\"&lt;=50K\" recordCount=\"45222.0\">\r\n",
      "\t\t\t<True/>\r\n",
      "\t\t\t<ScoreDistribution value=\"&lt;=50K\" recordCount=\"34014.0\"/>\r\n",
      "\t\t\t<ScoreDistribution value=\"&gt;50K\" recordCount=\"11208.0\"/>\r\n",
      "\t\t\t<Node score=\"&lt;=50K\" recordCount=\"24167.0\">\r\n",
      "\t\t\t\t<SimplePredicate field=\"marital_status\" operator=\"notEqual\" value=\"Married-civ-spouse\"/>\r\n",
      "\t\t\t\t<ScoreDistribution value=\"&lt;=50K\" recordCount=\"22523.0\"/>\r\n",
      "\t\t\t\t<ScoreDistribution value=\"&gt;50K\" recordCount=\"1644.0\"/>\r\n",
      "\t\t\t\t<Node score=\"&lt;=50K\" recordCount=\"23744.0\">\r\n",
      "\t\t\t\t\t<SimplePredicate field=\"capital_gain\" operator=\"lessOrEqual\" value=\"7443\"/>\r\n",
      "\t\t\t\t\t<ScoreDistribution value=\"&lt;=50K\" recordCount=\"22516.0\"/>\r\n",
      "\t\t\t\t\t<ScoreDistribution value=\"&gt;50K\" recordCount=\"1228.0\"/>\r\n",
      "\t\t\t\t\t<Node score=\"&lt;=50K\" recordCount=\"22397.0\">\r\n",
      "\t\t\t\t\t\t<SimplePredicate field=\"education_num\" operator=\"lessOrEqual\" value=\"13\"/>\r\n",
      "\t\t\t\t\t\t<ScoreDistribution value=\"&lt;=50K\" recordCount=\"21525.0\"/>\r\n",
      "\t\t\t\t\t\t<ScoreDistribution value=\"&gt;50K\" recordCount=\"872.0\"/>\r\n",
      "\t\t\t\t\t\t<Node score=\"&lt;=50K\" recordCount=\"17985.0\">\r\n",
      "\t\t\t\t\t\t\t<SimplePredicate field=\"hours_per_week\" operator=\"lessOrEqual\" value=\"42\"/>\r\n",
      "\t\t\t\t\t\t\t<ScoreDistribution value=\"&lt;=50K\" recordCount=\"17578.0\"/>\r\n",
      "\t\t\t\t\t\t\t<ScoreDistribution value=\"&gt;50K\" recordCount=\"407.0\"/>\r\n",
      "\t\t\t\t\t\t\t<Node score=\"&lt;=50K\" recordCount=\"10453.0\">\r\n",
      "\t\t\t\t\t\t\t\t<SimplePredicate field=\"age\" operator=\"lessOrEqual\" value=\"33\"/>\r\n",
      "\t\t\t\t\t\t\t\t<ScoreDistribution value=\"&lt;=50K\" recordCount=\"10374.0\"/>\r\n",
      "\t\t\t\t\t\t\t\t<ScoreDistribution value=\"&gt;50K\" recordCount=\"79.0\"/>\r\n",
      "\t\t\t\t\t\t\t</Node>\r\n",
      "\t\t\t\t\t\t\t<Node score=\"&lt;=50K\" recordCount=\"7532.0\">\r\n",
      "\t\t\t\t\t\t\t\t<SimplePredicate field=\"age\" operator=\"greaterThan\" value=\"33\"/>\r\n",
      "\t\t\t\t\t\t\t\t<ScoreDistribution value=\"&lt;=50K\" recordCount=\"7204.0\"/>\r\n",
      "\t\t\t\t\t\t\t\t<ScoreDistribution value=\"&gt;50K\" recordCount=\"328.0\"/>\r\n",
      "\t\t\t\t\t\t\t</Node>\r\n",
      "\t\t\t\t\t\t</Node>\r\n",
      "\t\t\t\t\t\t<Node score=\"&lt;=50K\" recordCount=\"4412.0\">\r\n",
      "\t\t\t\t\t\t\t<SimplePredicate field=\"hours_per_week\" operator=\"greaterThan\" value=\"42\"/>\r\n",
      "\t\t\t\t\t\t\t<ScoreDistribution value=\"&lt;=50K\" recordCount=\"3947.0\"/>\r\n",
      "\t\t\t\t\t\t\t<ScoreDistribution value=\"&gt;50K\" recordCount=\"465.0\"/>\r\n",
      "\t\t\t\t\t\t\t<Node score=\"&lt;=50K\" recordCount=\"3327.0\">\r\n",
      "\t\t\t\t\t\t\t\t<SimplePredicate field=\"education\" operator=\"notEqual\" value=\"Bachelors\"/>\r\n",
      "\t\t\t\t\t\t\t\t<ScoreDistribution value=\"&lt;=50K\" recordCount=\"3098.0\"/>\r\n",
      "\t\t\t\t\t\t\t\t<ScoreDistribution value=\"&gt;50K\" recordCount=\"229.0\"/>\r\n",
      "\t\t\t\t\t\t\t</Node>\r\n",
      "\t\t\t\t\t\t\t<Node score=\"&lt;=50K\" recordCount=\"1085.0\">\r\n",
      "\t\t\t\t\t\t\t\t<SimplePredicate field=\"education\" operator=\"equal\" value=\"Bachelors\"/>\r\n",
      "\t\t\t\t\t\t\t\t<ScoreDistribution value=\"&lt;=50K\" recordCount=\"849.0\"/>\r\n",
      "\t\t\t\t\t\t\t\t<ScoreDistribution value=\"&gt;50K\" recordCount=\"236.0\"/>\r\n",
      "\t\t\t\t\t\t\t</Node>\r\n",
      "\t\t\t\t\t\t</Node>\r\n",
      "\t\t\t\t\t</Node>\r\n",
      "\t\t\t\t\t<Node score=\"&lt;=50K\" recordCount=\"1347.0\">\r\n",
      "\t\t\t\t\t\t<SimplePredicate field=\"education_num\" operator=\"greaterThan\" value=\"13\"/>\r\n",
      "\t\t\t\t\t\t<ScoreDistribution value=\"&lt;=50K\" recordCount=\"991.0\"/>\r\n",
      "\t\t\t\t\t\t<ScoreDistribution value=\"&gt;50K\" recordCount=\"356.0\"/>\r\n",
      "\t\t\t\t\t\t<Node score=\"&lt;=50K\" recordCount=\"813.0\">\r\n",
      "\t\t\t\t\t\t\t<SimplePredicate field=\"hours_per_week\" operator=\"lessOrEqual\" value=\"43\"/>\r\n",
      "\t\t\t\t\t\t\t<ScoreDistribution value=\"&lt;=50K\" recordCount=\"667.0\"/>\r\n",
      "\t\t\t\t\t\t\t<ScoreDistribution value=\"&gt;50K\" recordCount=\"146.0\"/>\r\n",
      "\t\t\t\t\t\t\t<Node score=\"&lt;=50K\" recordCount=\"210.0\">\r\n",
      "\t\t\t\t\t\t\t\t<SimplePredicate field=\"age\" operator=\"lessOrEqual\" value=\"32\"/>\r\n",
      "\t\t\t\t\t\t\t\t<ScoreDistribution value=\"&lt;=50K\" recordCount=\"200.0\"/>\r\n",
      "\t\t\t\t\t\t\t\t<ScoreDistribution value=\"&gt;50K\" recordCount=\"10.0\"/>\r\n",
      "\t\t\t\t\t\t\t</Node>\r\n",
      "\t\t\t\t\t\t\t<Node score=\"&lt;=50K\" recordCount=\"603.0\">\r\n",
      "\t\t\t\t\t\t\t\t<SimplePredicate field=\"age\" operator=\"greaterThan\" value=\"32\"/>\r\n",
      "\t\t\t\t\t\t\t\t<ScoreDistribution value=\"&lt;=50K\" recordCount=\"467.0\"/>\r\n",
      "\t\t\t\t\t\t\t\t<ScoreDistribution value=\"&gt;50K\" recordCount=\"136.0\"/>\r\n",
      "\t\t\t\t\t\t\t</Node>\r\n",
      "\t\t\t\t\t\t</Node>\r\n",
      "\t\t\t\t\t\t<Node score=\"&lt;=50K\" recordCount=\"534.0\">\r\n",
      "\t\t\t\t\t\t\t<SimplePredicate field=\"hours_per_week\" operator=\"greaterThan\" value=\"43\"/>\r\n",
      "\t\t\t\t\t\t\t<ScoreDistribution value=\"&lt;=50K\" recordCount=\"324.0\"/>\r\n",
      "\t\t\t\t\t\t\t<ScoreDistribution value=\"&gt;50K\" recordCount=\"210.0\"/>\r\n",
      "\t\t\t\t\t\t\t<Node score=\"&lt;=50K\" recordCount=\"133.0\">\r\n",
      "\t\t\t\t\t\t\t\t<SimplePredicate field=\"age\" operator=\"lessOrEqual\" value=\"32\"/>\r\n",
      "\t\t\t\t\t\t\t\t<ScoreDistribution value=\"&lt;=50K\" recordCount=\"110.0\"/>\r\n",
      "\t\t\t\t\t\t\t\t<ScoreDistribution value=\"&gt;50K\" recordCount=\"23.0\"/>\r\n",
      "\t\t\t\t\t\t\t</Node>\r\n",
      "\t\t\t\t\t\t\t<Node score=\"&lt;=50K\" recordCount=\"401.0\">\r\n",
      "\t\t\t\t\t\t\t\t<SimplePredicate field=\"age\" operator=\"greaterThan\" value=\"32\"/>\r\n",
      "\t\t\t\t\t\t\t\t<ScoreDistribution value=\"&lt;=50K\" recordCount=\"214.0\"/>\r\n",
      "\t\t\t\t\t\t\t\t<ScoreDistribution value=\"&gt;50K\" recordCount=\"187.0\"/>\r\n",
      "\t\t\t\t\t\t\t</Node>\r\n",
      "\t\t\t\t\t\t</Node>\r\n",
      "\t\t\t\t\t</Node>\r\n",
      "\t\t\t\t</Node>\r\n",
      "\t\t\t\t<Node score=\"&gt;50K\" recordCount=\"423.0\">\r\n",
      "\t\t\t\t\t<SimplePredicate field=\"capital_gain\" operator=\"greaterThan\" value=\"7443\"/>\r\n",
      "\t\t\t\t\t<ScoreDistribution value=\"&lt;=50K\" recordCount=\"7.0\"/>\r\n",
      "\t\t\t\t\t<ScoreDistribution value=\"&gt;50K\" recordCount=\"416.0\"/>\r\n",
      "\t\t\t\t\t<Node score=\"&lt;=50K\" recordCount=\"4.0\">\r\n",
      "\t\t\t\t\t\t<SimplePredicate field=\"age\" operator=\"lessOrEqual\" value=\"20\"/>\r\n",
      "\t\t\t\t\t\t<ScoreDistribution value=\"&lt;=50K\" recordCount=\"3.0\"/>\r\n",
      "\t\t\t\t\t\t<ScoreDistribution value=\"&gt;50K\" recordCount=\"1.0\"/>\r\n",
      "\t\t\t\t\t\t<Node score=\"&lt;=50K\" recordCount=\"3.0\">\r\n",
      "\t\t\t\t\t\t\t<SimplePredicate field=\"education\" operator=\"notEqual\" value=\"Some-college\"/>\r\n",
      "\t\t\t\t\t\t\t<ScoreDistribution value=\"&lt;=50K\" recordCount=\"3.0\"/>\r\n",
      "\t\t\t\t\t\t</Node>\r\n",
      "\t\t\t\t\t\t<Node score=\"&gt;50K\" recordCount=\"1.0\">\r\n",
      "\t\t\t\t\t\t\t<SimplePredicate field=\"education\" operator=\"equal\" value=\"Some-college\"/>\r\n",
      "\t\t\t\t\t\t\t<ScoreDistribution value=\"&gt;50K\" recordCount=\"1.0\"/>\r\n",
      "\t\t\t\t\t\t</Node>\r\n",
      "\t\t\t\t\t</Node>\r\n",
      "\t\t\t\t\t<Node score=\"&gt;50K\" recordCount=\"419.0\">\r\n",
      "\t\t\t\t\t\t<SimplePredicate field=\"age\" operator=\"greaterThan\" value=\"20\"/>\r\n",
      "\t\t\t\t\t\t<ScoreDistribution value=\"&lt;=50K\" recordCount=\"4.0\"/>\r\n",
      "\t\t\t\t\t\t<ScoreDistribution value=\"&gt;50K\" recordCount=\"415.0\"/>\r\n",
      "\t\t\t\t\t\t<Node score=\"&gt;50K\" recordCount=\"4.0\">\r\n",
      "\t\t\t\t\t\t\t<SimplePredicate field=\"occupation\" operator=\"equal\" value=\"Protective-serv\"/>\r\n",
      "\t\t\t\t\t\t\t<ScoreDistribution value=\"&lt;=50K\" recordCount=\"1.0\"/>\r\n",
      "\t\t\t\t\t\t\t<ScoreDistribution value=\"&gt;50K\" recordCount=\"3.0\"/>\r\n",
      "\t\t\t\t\t\t\t<Node score=\"&gt;50K\" recordCount=\"3.0\">\r\n",
      "\t\t\t\t\t\t\t\t<SimplePredicate field=\"age\" operator=\"lessOrEqual\" value=\"37\"/>\r\n",
      "\t\t\t\t\t\t\t\t<ScoreDistribution value=\"&gt;50K\" recordCount=\"3.0\"/>\r\n",
      "\t\t\t\t\t\t\t</Node>\r\n",
      "\t\t\t\t\t\t\t<Node score=\"&lt;=50K\" recordCount=\"1.0\">\r\n",
      "\t\t\t\t\t\t\t\t<SimplePredicate field=\"age\" operator=\"greaterThan\" value=\"37\"/>\r\n",
      "\t\t\t\t\t\t\t\t<ScoreDistribution value=\"&lt;=50K\" recordCount=\"1.0\"/>\r\n",
      "\t\t\t\t\t\t\t</Node>\r\n",
      "\t\t\t\t\t\t</Node>\r\n",
      "\t\t\t\t\t\t<Node score=\"&gt;50K\" recordCount=\"415.0\">\r\n",
      "\t\t\t\t\t\t\t<SimplePredicate field=\"occupation\" operator=\"notEqual\" value=\"Protective-serv\"/>\r\n",
      "\t\t\t\t\t\t\t<ScoreDistribution value=\"&lt;=50K\" recordCount=\"3.0\"/>\r\n",
      "\t\t\t\t\t\t\t<ScoreDistribution value=\"&gt;50K\" recordCount=\"412.0\"/>\r\n",
      "\t\t\t\t\t\t\t<Node score=\"&gt;50K\" recordCount=\"344.0\">\r\n",
      "\t\t\t\t\t\t\t\t<SimplePredicate field=\"age\" operator=\"lessOrEqual\" value=\"54\"/>\r\n",
      "\t\t\t\t\t\t\t\t<ScoreDistribution value=\"&gt;50K\" recordCount=\"344.0\"/>\r\n",
      "\t\t\t\t\t\t\t</Node>\r\n",
      "\t\t\t\t\t\t\t<Node score=\"&gt;50K\" recordCount=\"71.0\">\r\n",
      "\t\t\t\t\t\t\t\t<SimplePredicate field=\"age\" operator=\"greaterThan\" value=\"54\"/>\r\n",
      "\t\t\t\t\t\t\t\t<ScoreDistribution value=\"&lt;=50K\" recordCount=\"3.0\"/>\r\n",
      "\t\t\t\t\t\t\t\t<ScoreDistribution value=\"&gt;50K\" recordCount=\"68.0\"/>\r\n",
      "\t\t\t\t\t\t\t</Node>\r\n",
      "\t\t\t\t\t\t</Node>\r\n",
      "\t\t\t\t\t</Node>\r\n",
      "\t\t\t\t</Node>\r\n",
      "\t\t\t</Node>\r\n",
      "\t\t\t<Node score=\"&lt;=50K\" recordCount=\"21055.0\">\r\n",
      "\t\t\t\t<SimplePredicate field=\"marital_status\" operator=\"equal\" value=\"Married-civ-spouse\"/>\r\n",
      "\t\t\t\t<ScoreDistribution value=\"&lt;=50K\" recordCount=\"11491.0\"/>\r\n",
      "\t\t\t\t<ScoreDistribution value=\"&gt;50K\" recordCount=\"9564.0\"/>\r\n",
      "\t\t\t\t<Node score=\"&lt;=50K\" recordCount=\"14790.0\">\r\n",
      "\t\t\t\t\t<SimplePredicate field=\"education_num\" operator=\"lessOrEqual\" value=\"12\"/>\r\n",
      "\t\t\t\t\t<ScoreDistribution value=\"&lt;=50K\" recordCount=\"9782.0\"/>\r\n",
      "\t\t\t\t\t<ScoreDistribution value=\"&gt;50K\" recordCount=\"5008.0\"/>\r\n",
      "\t\t\t\t\t<Node score=\"&lt;=50K\" recordCount=\"13719.0\">\r\n",
      "\t\t\t\t\t\t<SimplePredicate field=\"capital_gain\" operator=\"lessOrEqual\" value=\"3456\"/>\r\n",
      "\t\t\t\t\t\t<ScoreDistribution value=\"&lt;=50K\" recordCount=\"9500.0\"/>\r\n",
      "\t\t\t\t\t\t<ScoreDistribution value=\"&gt;50K\" recordCount=\"4219.0\"/>\r\n",
      "\t\t\t\t\t\t<Node score=\"&lt;=50K\" recordCount=\"2246.0\">\r\n",
      "\t\t\t\t\t\t\t<SimplePredicate field=\"education_num\" operator=\"lessOrEqual\" value=\"8\"/>\r\n",
      "\t\t\t\t\t\t\t<ScoreDistribution value=\"&lt;=50K\" recordCount=\"2007.0\"/>\r\n",
      "\t\t\t\t\t\t\t<ScoreDistribution value=\"&gt;50K\" recordCount=\"239.0\"/>\r\n",
      "\t\t\t\t\t\t\t<Node score=\"&lt;=50K\" recordCount=\"1695.0\">\r\n",
      "\t\t\t\t\t\t\t\t<SimplePredicate field=\"hours_per_week\" operator=\"lessOrEqual\" value=\"43\"/>\r\n",
      "\t\t\t\t\t\t\t\t<ScoreDistribution value=\"&lt;=50K\" recordCount=\"1559.0\"/>\r\n",
      "\t\t\t\t\t\t\t\t<ScoreDistribution value=\"&gt;50K\" recordCount=\"136.0\"/>\r\n",
      "\t\t\t\t\t\t\t</Node>\r\n",
      "\t\t\t\t\t\t\t<Node score=\"&lt;=50K\" recordCount=\"551.0\">\r\n",
      "\t\t\t\t\t\t\t\t<SimplePredicate field=\"hours_per_week\" operator=\"greaterThan\" value=\"43\"/>\r\n",
      "\t\t\t\t\t\t\t\t<ScoreDistribution value=\"&lt;=50K\" recordCount=\"448.0\"/>\r\n",
      "\t\t\t\t\t\t\t\t<ScoreDistribution value=\"&gt;50K\" recordCount=\"103.0\"/>\r\n",
      "\t\t\t\t\t\t\t</Node>\r\n",
      "\t\t\t\t\t\t</Node>\r\n",
      "\t\t\t\t\t\t<Node score=\"&lt;=50K\" recordCount=\"11473.0\">\r\n",
      "\t\t\t\t\t\t\t<SimplePredicate field=\"education_num\" operator=\"greaterThan\" value=\"8\"/>\r\n",
      "\t\t\t\t\t\t\t<ScoreDistribution value=\"&lt;=50K\" recordCount=\"7493.0\"/>\r\n",
      "\t\t\t\t\t\t\t<ScoreDistribution value=\"&gt;50K\" recordCount=\"3980.0\"/>\r\n",
      "\t\t\t\t\t\t\t<Node score=\"&lt;=50K\" recordCount=\"11001.0\">\r\n",
      "\t\t\t\t\t\t\t\t<SimplePredicate field=\"capital_loss\" operator=\"lessOrEqual\" value=\"1844\"/>\r\n",
      "\t\t\t\t\t\t\t\t<ScoreDistribution value=\"&lt;=50K\" recordCount=\"7385.0\"/>\r\n",
      "\t\t\t\t\t\t\t\t<ScoreDistribution value=\"&gt;50K\" recordCount=\"3616.0\"/>\r\n",
      "\t\t\t\t\t\t\t</Node>\r\n",
      "\t\t\t\t\t\t\t<Node score=\"&gt;50K\" recordCount=\"472.0\">\r\n",
      "\t\t\t\t\t\t\t\t<SimplePredicate field=\"capital_loss\" operator=\"greaterThan\" value=\"1844\"/>\r\n",
      "\t\t\t\t\t\t\t\t<ScoreDistribution value=\"&lt;=50K\" recordCount=\"108.0\"/>\r\n",
      "\t\t\t\t\t\t\t\t<ScoreDistribution value=\"&gt;50K\" recordCount=\"364.0\"/>\r\n",
      "\t\t\t\t\t\t\t</Node>\r\n",
      "\t\t\t\t\t\t</Node>\r\n",
      "\t\t\t\t\t</Node>\r\n",
      "\t\t\t\t\t<Node score=\"&gt;50K\" recordCount=\"1071.0\">\r\n",
      "\t\t\t\t\t\t<SimplePredicate field=\"capital_gain\" operator=\"greaterThan\" value=\"3456\"/>\r\n",
      "\t\t\t\t\t\t<ScoreDistribution value=\"&lt;=50K\" recordCount=\"282.0\"/>\r\n",
      "\t\t\t\t\t\t<ScoreDistribution value=\"&gt;50K\" recordCount=\"789.0\"/>\r\n",
      "\t\t\t\t\t\t<Node score=\"&gt;50K\" recordCount=\"665.0\">\r\n",
      "\t\t\t\t\t\t\t<SimplePredicate field=\"capital_gain\" operator=\"lessOrEqual\" value=\"7443\"/>\r\n",
      "\t\t\t\t\t\t\t<ScoreDistribution value=\"&lt;=50K\" recordCount=\"272.0\"/>\r\n",
      "\t\t\t\t\t\t\t<ScoreDistribution value=\"&gt;50K\" recordCount=\"393.0\"/>\r\n",
      "\t\t\t\t\t\t\t<Node score=\"&gt;50K\" recordCount=\"381.0\">\r\n",
      "\t\t\t\t\t\t\t\t<SimplePredicate field=\"education_num\" operator=\"lessOrEqual\" value=\"9\"/>\r\n",
      "\t\t\t\t\t\t\t\t<ScoreDistribution value=\"&lt;=50K\" recordCount=\"183.0\"/>\r\n",
      "\t\t\t\t\t\t\t\t<ScoreDistribution value=\"&gt;50K\" recordCount=\"198.0\"/>\r\n",
      "\t\t\t\t\t\t\t</Node>\r\n",
      "\t\t\t\t\t\t\t<Node score=\"&gt;50K\" recordCount=\"284.0\">\r\n",
      "\t\t\t\t\t\t\t\t<SimplePredicate field=\"education_num\" operator=\"greaterThan\" value=\"9\"/>\r\n",
      "\t\t\t\t\t\t\t\t<ScoreDistribution value=\"&lt;=50K\" recordCount=\"89.0\"/>\r\n",
      "\t\t\t\t\t\t\t\t<ScoreDistribution value=\"&gt;50K\" recordCount=\"195.0\"/>\r\n",
      "\t\t\t\t\t\t\t</Node>\r\n",
      "\t\t\t\t\t\t</Node>\r\n",
      "\t\t\t\t\t\t<Node score=\"&gt;50K\" recordCount=\"406.0\">\r\n",
      "\t\t\t\t\t\t\t<SimplePredicate field=\"capital_gain\" operator=\"greaterThan\" value=\"7443\"/>\r\n",
      "\t\t\t\t\t\t\t<ScoreDistribution value=\"&lt;=50K\" recordCount=\"10.0\"/>\r\n",
      "\t\t\t\t\t\t\t<ScoreDistribution value=\"&gt;50K\" recordCount=\"396.0\"/>\r\n",
      "\t\t\t\t\t\t\t<Node score=\"&lt;=50K\" recordCount=\"1.0\">\r\n",
      "\t\t\t\t\t\t\t\t<SimplePredicate field=\"education_num\" operator=\"lessOrEqual\" value=\"1\"/>\r\n",
      "\t\t\t\t\t\t\t\t<ScoreDistribution value=\"&lt;=50K\" recordCount=\"1.0\"/>\r\n",
      "\t\t\t\t\t\t\t</Node>\r\n",
      "\t\t\t\t\t\t\t<Node score=\"&gt;50K\" recordCount=\"405.0\">\r\n",
      "\t\t\t\t\t\t\t\t<SimplePredicate field=\"education_num\" operator=\"greaterThan\" value=\"1\"/>\r\n",
      "\t\t\t\t\t\t\t\t<ScoreDistribution value=\"&lt;=50K\" recordCount=\"9.0\"/>\r\n",
      "\t\t\t\t\t\t\t\t<ScoreDistribution value=\"&gt;50K\" recordCount=\"396.0\"/>\r\n",
      "\t\t\t\t\t\t\t</Node>\r\n",
      "\t\t\t\t\t\t</Node>\r\n",
      "\t\t\t\t\t</Node>\r\n",
      "\t\t\t\t</Node>\r\n",
      "\t\t\t\t<Node score=\"&gt;50K\" recordCount=\"6265.0\">\r\n",
      "\t\t\t\t\t<SimplePredicate field=\"education_num\" operator=\"greaterThan\" value=\"12\"/>\r\n",
      "\t\t\t\t\t<ScoreDistribution value=\"&lt;=50K\" recordCount=\"1709.0\"/>\r\n",
      "\t\t\t\t\t<ScoreDistribution value=\"&gt;50K\" recordCount=\"4556.0\"/>\r\n",
      "\t\t\t\t\t<Node score=\"&gt;50K\" recordCount=\"5506.0\">\r\n",
      "\t\t\t\t\t\t<SimplePredicate field=\"capital_gain\" operator=\"lessOrEqual\" value=\"7443\"/>\r\n",
      "\t\t\t\t\t\t<ScoreDistribution value=\"&lt;=50K\" recordCount=\"1707.0\"/>\r\n",
      "\t\t\t\t\t\t<ScoreDistribution value=\"&gt;50K\" recordCount=\"3799.0\"/>\r\n",
      "\t\t\t\t\t\t<Node score=\"&gt;50K\" recordCount=\"4953.0\">\r\n",
      "\t\t\t\t\t\t\t<SimplePredicate field=\"capital_loss\" operator=\"lessOrEqual\" value=\"1844\"/>\r\n",
      "\t\t\t\t\t\t\t<ScoreDistribution value=\"&lt;=50K\" recordCount=\"1690.0\"/>\r\n",
      "\t\t\t\t\t\t\t<ScoreDistribution value=\"&gt;50K\" recordCount=\"3263.0\"/>\r\n",
      "\t\t\t\t\t\t\t<Node score=\"&lt;=50K\" recordCount=\"374.0\">\r\n",
      "\t\t\t\t\t\t\t\t<SimplePredicate field=\"hours_per_week\" operator=\"lessOrEqual\" value=\"30\"/>\r\n",
      "\t\t\t\t\t\t\t\t<ScoreDistribution value=\"&lt;=50K\" recordCount=\"226.0\"/>\r\n",
      "\t\t\t\t\t\t\t\t<ScoreDistribution value=\"&gt;50K\" recordCount=\"148.0\"/>\r\n",
      "\t\t\t\t\t\t\t</Node>\r\n",
      "\t\t\t\t\t\t\t<Node score=\"&gt;50K\" recordCount=\"4579.0\">\r\n",
      "\t\t\t\t\t\t\t\t<SimplePredicate field=\"hours_per_week\" operator=\"greaterThan\" value=\"30\"/>\r\n",
      "\t\t\t\t\t\t\t\t<ScoreDistribution value=\"&lt;=50K\" recordCount=\"1464.0\"/>\r\n",
      "\t\t\t\t\t\t\t\t<ScoreDistribution value=\"&gt;50K\" recordCount=\"3115.0\"/>\r\n",
      "\t\t\t\t\t\t\t</Node>\r\n",
      "\t\t\t\t\t\t</Node>\r\n",
      "\t\t\t\t\t\t<Node score=\"&gt;50K\" recordCount=\"553.0\">\r\n",
      "\t\t\t\t\t\t\t<SimplePredicate field=\"capital_loss\" operator=\"greaterThan\" value=\"1844\"/>\r\n",
      "\t\t\t\t\t\t\t<ScoreDistribution value=\"&lt;=50K\" recordCount=\"17.0\"/>\r\n",
      "\t\t\t\t\t\t\t<ScoreDistribution value=\"&gt;50K\" recordCount=\"536.0\"/>\r\n",
      "\t\t\t\t\t\t\t<Node score=\"&lt;=50K\" recordCount=\"2.0\">\r\n",
      "\t\t\t\t\t\t\t\t<SimplePredicate field=\"native_country\" operator=\"equal\" value=\"Iran\"/>\r\n",
      "\t\t\t\t\t\t\t\t<ScoreDistribution value=\"&lt;=50K\" recordCount=\"1.0\"/>\r\n",
      "\t\t\t\t\t\t\t\t<ScoreDistribution value=\"&gt;50K\" recordCount=\"1.0\"/>\r\n",
      "\t\t\t\t\t\t\t</Node>\r\n",
      "\t\t\t\t\t\t\t<Node score=\"&gt;50K\" recordCount=\"551.0\">\r\n",
      "\t\t\t\t\t\t\t\t<SimplePredicate field=\"native_country\" operator=\"notEqual\" value=\"Iran\"/>\r\n",
      "\t\t\t\t\t\t\t\t<ScoreDistribution value=\"&lt;=50K\" recordCount=\"16.0\"/>\r\n",
      "\t\t\t\t\t\t\t\t<ScoreDistribution value=\"&gt;50K\" recordCount=\"535.0\"/>\r\n",
      "\t\t\t\t\t\t\t</Node>\r\n",
      "\t\t\t\t\t\t</Node>\r\n",
      "\t\t\t\t\t</Node>\r\n",
      "\t\t\t\t\t<Node score=\"&gt;50K\" recordCount=\"759.0\">\r\n",
      "\t\t\t\t\t\t<SimplePredicate field=\"capital_gain\" operator=\"greaterThan\" value=\"7443\"/>\r\n",
      "\t\t\t\t\t\t<ScoreDistribution value=\"&lt;=50K\" recordCount=\"2.0\"/>\r\n",
      "\t\t\t\t\t\t<ScoreDistribution value=\"&gt;50K\" recordCount=\"757.0\"/>\r\n",
      "\t\t\t\t\t\t<Node score=\"&gt;50K\" recordCount=\"6.0\">\r\n",
      "\t\t\t\t\t\t\t<SimplePredicate field=\"occupation\" operator=\"equal\" value=\"Farming-fishing\"/>\r\n",
      "\t\t\t\t\t\t\t<ScoreDistribution value=\"&lt;=50K\" recordCount=\"1.0\"/>\r\n",
      "\t\t\t\t\t\t\t<ScoreDistribution value=\"&gt;50K\" recordCount=\"5.0\"/>\r\n",
      "\t\t\t\t\t\t\t<Node score=\"&lt;=50K\" recordCount=\"1.0\">\r\n",
      "\t\t\t\t\t\t\t\t<SimplePredicate field=\"workclass\" operator=\"equal\" value=\"Self-emp-not-inc\"/>\r\n",
      "\t\t\t\t\t\t\t\t<ScoreDistribution value=\"&lt;=50K\" recordCount=\"1.0\"/>\r\n",
      "\t\t\t\t\t\t\t</Node>\r\n",
      "\t\t\t\t\t\t\t<Node score=\"&gt;50K\" recordCount=\"5.0\">\r\n",
      "\t\t\t\t\t\t\t\t<SimplePredicate field=\"workclass\" operator=\"notEqual\" value=\"Self-emp-not-inc\"/>\r\n",
      "\t\t\t\t\t\t\t\t<ScoreDistribution value=\"&gt;50K\" recordCount=\"5.0\"/>\r\n",
      "\t\t\t\t\t\t\t</Node>\r\n",
      "\t\t\t\t\t\t</Node>\r\n",
      "\t\t\t\t\t\t<Node score=\"&gt;50K\" recordCount=\"753.0\">\r\n",
      "\t\t\t\t\t\t\t<SimplePredicate field=\"occupation\" operator=\"notEqual\" value=\"Farming-fishing\"/>\r\n",
      "\t\t\t\t\t\t\t<ScoreDistribution value=\"&lt;=50K\" recordCount=\"1.0\"/>\r\n",
      "\t\t\t\t\t\t\t<ScoreDistribution value=\"&gt;50K\" recordCount=\"752.0\"/>\r\n",
      "\t\t\t\t\t\t\t<Node score=\"&gt;50K\" recordCount=\"710.0\">\r\n",
      "\t\t\t\t\t\t\t\t<SimplePredicate field=\"age\" operator=\"lessOrEqual\" value=\"65\"/>\r\n",
      "\t\t\t\t\t\t\t\t<ScoreDistribution value=\"&gt;50K\" recordCount=\"710.0\"/>\r\n",
      "\t\t\t\t\t\t\t</Node>\r\n",
      "\t\t\t\t\t\t\t<Node score=\"&gt;50K\" recordCount=\"43.0\">\r\n",
      "\t\t\t\t\t\t\t\t<SimplePredicate field=\"age\" operator=\"greaterThan\" value=\"65\"/>\r\n",
      "\t\t\t\t\t\t\t\t<ScoreDistribution value=\"&lt;=50K\" recordCount=\"1.0\"/>\r\n",
      "\t\t\t\t\t\t\t\t<ScoreDistribution value=\"&gt;50K\" recordCount=\"42.0\"/>\r\n",
      "\t\t\t\t\t\t\t</Node>\r\n",
      "\t\t\t\t\t\t</Node>\r\n",
      "\t\t\t\t\t</Node>\r\n",
      "\t\t\t\t</Node>\r\n",
      "\t\t\t</Node>\r\n",
      "\t\t</Node>\r\n",
      "\t</TreeModel>\r\n",
      "</PMML>\r\n"
     ]
    }
   ],
   "source": [
    "with open('/root/census.pmml', 'wb') as f:\n",
    "  f.write(pmmlBytes)\n",
    "\n",
    "!cat /root/census.pmml"
   ]
  },
  {
   "cell_type": "markdown",
   "metadata": {},
   "source": [
    "### Commit to Github"
   ]
  },
  {
   "cell_type": "code",
   "execution_count": 25,
   "metadata": {
    "collapsed": false
   },
   "outputs": [],
   "source": [
    "# Note:  You may need to run this from a terminal in order to set creds\n",
    "#!/root/datasticks-github-push.sh"
   ]
  },
  {
   "cell_type": "markdown",
   "metadata": {},
   "source": [
    "### Deploy New Model Server with New Model from Github"
   ]
  },
  {
   "cell_type": "code",
   "execution_count": 26,
   "metadata": {
    "collapsed": false
   },
   "outputs": [
    {
     "name": "stdout",
     "output_type": "stream",
     "text": [
      "switched to context \"aws_k8s_predictions\".\r\n"
     ]
    }
   ],
   "source": [
    "!/root/pipeline.io/bin/pipeline-context-switch-aws-predictions.sh"
   ]
  },
  {
   "cell_type": "code",
   "execution_count": 27,
   "metadata": {
    "collapsed": false
   },
   "outputs": [
    {
     "name": "stdout",
     "output_type": "stream",
     "text": [
      "NAME                       READY     STATUS    RESTARTS   AGE\r\n",
      "prediction-codegen-wiu69   1/1       Running   0          56m\r\n",
      "prediction-codegen-y7ovp   1/1       Running   0          7m\r\n",
      "prediction-pmml-fwric      1/1       Running   0          1h\r\n",
      "prediction-pmml-ndwai      1/1       Running   0          7m\r\n",
      "turbine-g4j7q              1/1       Running   0          1h\r\n",
      "weavescope-app-oh0mh       1/1       Running   0          1h\r\n",
      "weavescope-probe-jwdo4     1/1       Running   0          1h\r\n"
     ]
    }
   ],
   "source": [
    "!kubectl get pod"
   ]
  },
  {
   "cell_type": "markdown",
   "metadata": {},
   "source": [
    "## Load Test Predictions Across AWS and Google Cloud"
   ]
  },
  {
   "cell_type": "markdown",
   "metadata": {},
   "source": [
    "### [Prediction Services Dashboard](http://hystrix.demo.pipeline.io/hystrix-dashboard/monitor/monitor.html?streams=%5B%7B%22name%22%3A%22Predictions%20-%20AWS%22%2C%22stream%22%3A%22http%3A%2F%2Fturbine-aws.demo.pipeline.io%2Fturbine.stream%22%2C%22auth%22%3A%22%22%2C%22delay%22%3A%22%22%7D%2C%7B%22name%22%3A%22Predictions%20-%20GCP%22%2C%22stream%22%3A%22http%3A%2F%2Fturbine-gcp.demo.pipeline.io%2Fturbine.stream%22%2C%22auth%22%3A%22%22%2C%22delay%22%3A%22%22%7D%5D)"
   ]
  },
  {
   "cell_type": "code",
   "execution_count": 28,
   "metadata": {
    "collapsed": false
   },
   "outputs": [
    {
     "data": {
      "text/html": [
       "<iframe width=100% height=500px src=\"http://hystrix.demo.pipeline.io/hystrix-dashboard/monitor/monitor.html?streams=%5B%7B%22name%22%3A%22Predictions%20-%20AWS%22%2C%22stream%22%3A%22http%3A%2F%2Fturbine-aws.demo.pipeline.io%2Fturbine.stream%22%2C%22auth%22%3A%22%22%2C%22delay%22%3A%22%22%7D%2C%7B%22name%22%3A%22Predictions%20-%20GCP%22%2C%22stream%22%3A%22http%3A%2F%2Fturbine-gcp.demo.pipeline.io%2Fturbine.stream%22%2C%22auth%22%3A%22%22%2C%22delay%22%3A%22%22%7D%5D\">"
      ],
      "text/plain": [
       "<IPython.core.display.HTML object>"
      ]
     },
     "metadata": {},
     "output_type": "display_data"
    }
   ],
   "source": [
    "from IPython.display import display, HTML\n",
    "\n",
    "html = '<iframe width=100% height=500px src=\"http://hystrix.demo.pipeline.io/hystrix-dashboard/monitor/monitor.html?streams=%5B%7B%22name%22%3A%22Predictions%20-%20AWS%22%2C%22stream%22%3A%22http%3A%2F%2Fturbine-aws.demo.pipeline.io%2Fturbine.stream%22%2C%22auth%22%3A%22%22%2C%22delay%22%3A%22%22%7D%2C%7B%22name%22%3A%22Predictions%20-%20GCP%22%2C%22stream%22%3A%22http%3A%2F%2Fturbine-gcp.demo.pipeline.io%2Fturbine.stream%22%2C%22auth%22%3A%22%22%2C%22delay%22%3A%22%22%7D%5D\">'\n",
    "display(HTML(html))"
   ]
  },
  {
   "cell_type": "code",
   "execution_count": 29,
   "metadata": {
    "collapsed": false
   },
   "outputs": [
    {
     "name": "stdout",
     "output_type": "stream",
     "text": [
      "switched to context \"aws_k8s_training\".\r\n"
     ]
    }
   ],
   "source": [
    "!/root/pipeline.io/bin/pipeline-context-switch-aws-training.sh"
   ]
  },
  {
   "cell_type": "markdown",
   "metadata": {},
   "source": [
    "## Scale Out Model Servers"
   ]
  },
  {
   "cell_type": "markdown",
   "metadata": {},
   "source": [
    "### AWS"
   ]
  },
  {
   "cell_type": "code",
   "execution_count": 30,
   "metadata": {
    "collapsed": false
   },
   "outputs": [
    {
     "name": "stdout",
     "output_type": "stream",
     "text": [
      "switched to context \"aws_k8s_predictions\".\r\n"
     ]
    }
   ],
   "source": [
    "!/root/pipeline.io/bin/pipeline-context-switch-aws-predictions.sh"
   ]
  },
  {
   "cell_type": "code",
   "execution_count": 31,
   "metadata": {
    "collapsed": false
   },
   "outputs": [
    {
     "name": "stdout",
     "output_type": "stream",
     "text": [
      "NAME                       READY     STATUS    RESTARTS   AGE\r\n",
      "prediction-codegen-wiu69   1/1       Running   0          56m\r\n",
      "prediction-codegen-y7ovp   1/1       Running   0          7m\r\n",
      "prediction-pmml-fwric      1/1       Running   0          1h\r\n",
      "prediction-pmml-ndwai      1/1       Running   0          7m\r\n",
      "turbine-g4j7q              1/1       Running   0          1h\r\n",
      "weavescope-app-oh0mh       1/1       Running   0          1h\r\n",
      "weavescope-probe-jwdo4     1/1       Running   0          1h\r\n"
     ]
    }
   ],
   "source": [
    "!kubectl get pod"
   ]
  },
  {
   "cell_type": "code",
   "execution_count": 32,
   "metadata": {
    "collapsed": false
   },
   "outputs": [
    {
     "name": "stdout",
     "output_type": "stream",
     "text": [
      "replicationcontroller \"prediction-pmml\" scaled\r\n"
     ]
    }
   ],
   "source": [
    "!/root/pipeline.io/bin/pipeline-deployment-scale-out-predictions.sh"
   ]
  },
  {
   "cell_type": "code",
   "execution_count": 33,
   "metadata": {
    "collapsed": false
   },
   "outputs": [
    {
     "name": "stdout",
     "output_type": "stream",
     "text": [
      "NAME                       READY     STATUS              RESTARTS   AGE\r\n",
      "prediction-codegen-wiu69   1/1       Running             0          56m\r\n",
      "prediction-codegen-y7ovp   1/1       Running             0          7m\r\n",
      "prediction-pmml-14s4b      0/1       ContainerCreating   0          0s\r\n",
      "prediction-pmml-fwric      1/1       Running             0          1h\r\n",
      "prediction-pmml-jwh9q      0/1       ContainerCreating   0          0s\r\n",
      "prediction-pmml-l9ksy      0/1       ContainerCreating   0          0s\r\n",
      "prediction-pmml-ndwai      1/1       Running             0          7m\r\n",
      "turbine-g4j7q              1/1       Running             0          1h\r\n",
      "weavescope-app-oh0mh       1/1       Running             0          1h\r\n",
      "weavescope-probe-jwdo4     1/1       Running             0          1h\r\n"
     ]
    }
   ],
   "source": [
    "!kubectl get pod"
   ]
  },
  {
   "cell_type": "markdown",
   "metadata": {},
   "source": [
    "### Google"
   ]
  },
  {
   "cell_type": "code",
   "execution_count": 34,
   "metadata": {
    "collapsed": false
   },
   "outputs": [
    {
     "name": "stdout",
     "output_type": "stream",
     "text": [
      "switched to context \"gcp_k8s_predictions\".\r\n"
     ]
    }
   ],
   "source": [
    "!/root/pipeline.io/bin/pipeline-context-switch-gcp-predictions.sh"
   ]
  },
  {
   "cell_type": "code",
   "execution_count": 35,
   "metadata": {
    "collapsed": false
   },
   "outputs": [
    {
     "name": "stdout",
     "output_type": "stream",
     "text": [
      "replicationcontroller \"prediction-pmml\" scaled\r\n"
     ]
    }
   ],
   "source": [
    "!/root/pipeline.io/bin/pipeline-deployment-scale-out-predictions.sh"
   ]
  },
  {
   "cell_type": "code",
   "execution_count": 36,
   "metadata": {
    "collapsed": false
   },
   "outputs": [
    {
     "name": "stdout",
     "output_type": "stream",
     "text": [
      "NAME                       READY     STATUS              RESTARTS   AGE\r\n",
      "prediction-codegen-gvmko   1/1       Running             0          57m\r\n",
      "prediction-codegen-z8puw   1/1       Running             0          7m\r\n",
      "prediction-pmml-ap34w      0/1       ContainerCreating   0          0s\r\n",
      "prediction-pmml-j08ot      0/1       ContainerCreating   0          0s\r\n",
      "prediction-pmml-jz21l      1/1       Running             0          1h\r\n",
      "prediction-pmml-mbwy1      1/1       Running             0          7m\r\n",
      "prediction-pmml-w7niw      0/1       ContainerCreating   0          0s\r\n",
      "turbine-u6588              1/1       Running             0          1h\r\n",
      "weavescope-app-nrc6o       1/1       Running             0          1h\r\n",
      "weavescope-probe-5rogi     1/1       Running             0          1h\r\n"
     ]
    }
   ],
   "source": [
    "!kubectl get pod"
   ]
  },
  {
   "cell_type": "markdown",
   "metadata": {},
   "source": [
    "## Scale In and Cleanup"
   ]
  },
  {
   "cell_type": "markdown",
   "metadata": {},
   "source": [
    "### Training - Spark"
   ]
  },
  {
   "cell_type": "code",
   "execution_count": 37,
   "metadata": {
    "collapsed": false
   },
   "outputs": [
    {
     "name": "stdout",
     "output_type": "stream",
     "text": [
      "switched to context \"aws_k8s_training\".\r\n"
     ]
    }
   ],
   "source": [
    "!/root/pipeline.io/bin/pipeline-context-switch-aws-training.sh"
   ]
  },
  {
   "cell_type": "code",
   "execution_count": 38,
   "metadata": {
    "collapsed": false
   },
   "outputs": [
    {
     "name": "stdout",
     "output_type": "stream",
     "text": [
      "NAME                                 READY     STATUS              RESTARTS   AGE\r\n",
      "airflow-180xs                        1/1       Running             0          12d\r\n",
      "airpal-2h0l7                         1/1       Running             0          12d\r\n",
      "cassandra-de9oe                      1/1       Running             0          12d\r\n",
      "clustered-tensorflow-master-xsqbd    1/1       Running             0          1d\r\n",
      "clustered-tensorflow-ps0-rlihr       1/1       Running             0          1d\r\n",
      "clustered-tensorflow-ps1-2l181       1/1       Running             0          1d\r\n",
      "clustered-tensorflow-worker0-3o5yv   1/1       Running             0          1d\r\n",
      "clustered-tensorflow-worker1-duuf8   1/1       Running             0          1d\r\n",
      "elasticsearch-2-3-0-er0i5            1/1       Running             0          12d\r\n",
      "hystrix-xlbp6                        1/1       Running             0          2h\r\n",
      "jupyterhub-master-26yr8              1/1       Running             0          1d\r\n",
      "kafka-0-8-e653j                      1/1       Running             0          12d\r\n",
      "kibana-4-5-0-crrbl                   1/1       Running             0          12d\r\n",
      "metastore-1-2-1-ajze9                1/1       Running             0          12d\r\n",
      "mysql-master-n1slt                   1/1       Running             0          12d\r\n",
      "presto-master-uidot                  1/1       Running             0          12d\r\n",
      "presto-worker-50guq                  1/1       Running             0          12d\r\n",
      "redis-master-406n4                   1/1       Running             0          12d\r\n",
      "spark-master-2-0-1-b2qgi             1/1       Running             0          7d\r\n",
      "spark-worker-2-0-1-ejwsw             1/1       Running             0          7d\r\n",
      "spark-worker-2-0-1-i546z             0/1       ContainerCreating   0          1m\r\n",
      "spark-worker-2-0-1-l88ap             0/1       ContainerCreating   0          1m\r\n",
      "spark-worker-2-0-1-t99we             0/1       ContainerCreating   0          1m\r\n",
      "spark-worker-2-0-1-zpoxz             0/1       ContainerCreating   0          1m\r\n",
      "weavescope-app-3r58t                 1/1       Running             0          9d\r\n",
      "weavescope-probe-5m9q1               1/1       Running             0          9d\r\n",
      "weavescope-probe-5v0fw               1/1       Running             0          9d\r\n",
      "web-home-h06mv                       1/1       Running             0          37m\r\n",
      "zeppelin-master-xh7ti                1/1       Running             0          12d\r\n",
      "zookeeper-uvqb7                      1/1       Running             0          12d\r\n"
     ]
    }
   ],
   "source": [
    "!kubectl get pod"
   ]
  },
  {
   "cell_type": "code",
   "execution_count": 39,
   "metadata": {
    "collapsed": false
   },
   "outputs": [
    {
     "name": "stdout",
     "output_type": "stream",
     "text": [
      "replicationcontroller \"spark-worker-2-0-1\" scaled\r\n"
     ]
    }
   ],
   "source": [
    "!/root/pipeline.io/bin/pipeline-deployment-scale-in-training.sh"
   ]
  },
  {
   "cell_type": "code",
   "execution_count": 40,
   "metadata": {
    "collapsed": false
   },
   "outputs": [
    {
     "name": "stdout",
     "output_type": "stream",
     "text": [
      "NAME                                 READY     STATUS        RESTARTS   AGE\r\n",
      "airflow-180xs                        1/1       Running       0          12d\r\n",
      "airpal-2h0l7                         1/1       Running       0          12d\r\n",
      "cassandra-de9oe                      1/1       Running       0          12d\r\n",
      "clustered-tensorflow-master-xsqbd    1/1       Running       0          1d\r\n",
      "clustered-tensorflow-ps0-rlihr       1/1       Running       0          1d\r\n",
      "clustered-tensorflow-ps1-2l181       1/1       Running       0          1d\r\n",
      "clustered-tensorflow-worker0-3o5yv   1/1       Running       0          1d\r\n",
      "clustered-tensorflow-worker1-duuf8   1/1       Running       0          1d\r\n",
      "elasticsearch-2-3-0-er0i5            1/1       Running       0          12d\r\n",
      "hystrix-xlbp6                        1/1       Running       0          2h\r\n",
      "jupyterhub-master-26yr8              1/1       Running       0          1d\r\n",
      "kafka-0-8-e653j                      1/1       Running       0          12d\r\n",
      "kibana-4-5-0-crrbl                   1/1       Running       0          12d\r\n",
      "metastore-1-2-1-ajze9                1/1       Running       0          12d\r\n",
      "mysql-master-n1slt                   1/1       Running       0          12d\r\n",
      "presto-master-uidot                  1/1       Running       0          12d\r\n",
      "presto-worker-50guq                  1/1       Running       0          12d\r\n",
      "redis-master-406n4                   1/1       Running       0          12d\r\n",
      "spark-master-2-0-1-b2qgi             1/1       Running       0          7d\r\n",
      "spark-worker-2-0-1-ejwsw             1/1       Running       0          7d\r\n",
      "spark-worker-2-0-1-i546z             0/1       Terminating   0          1m\r\n",
      "spark-worker-2-0-1-l88ap             0/1       Terminating   0          1m\r\n",
      "spark-worker-2-0-1-t99we             0/1       Terminating   0          1m\r\n",
      "spark-worker-2-0-1-zpoxz             0/1       Terminating   0          1m\r\n",
      "weavescope-app-3r58t                 1/1       Running       0          9d\r\n",
      "weavescope-probe-5m9q1               1/1       Running       0          9d\r\n",
      "weavescope-probe-5v0fw               1/1       Running       0          9d\r\n",
      "web-home-h06mv                       1/1       Running       0          37m\r\n",
      "zeppelin-master-xh7ti                1/1       Running       0          12d\r\n",
      "zookeeper-uvqb7                      1/1       Running       0          12d\r\n"
     ]
    }
   ],
   "source": [
    "!kubectl get pod"
   ]
  },
  {
   "cell_type": "markdown",
   "metadata": {},
   "source": [
    "### AWS"
   ]
  },
  {
   "cell_type": "code",
   "execution_count": 41,
   "metadata": {
    "collapsed": false
   },
   "outputs": [
    {
     "name": "stdout",
     "output_type": "stream",
     "text": [
      "switched to context \"aws_k8s_predictions\".\r\n"
     ]
    }
   ],
   "source": [
    "!/root/pipeline.io/bin/pipeline-context-switch-aws-predictions.sh"
   ]
  },
  {
   "cell_type": "code",
   "execution_count": 42,
   "metadata": {
    "collapsed": false
   },
   "outputs": [
    {
     "name": "stdout",
     "output_type": "stream",
     "text": [
      "NAME                       READY     STATUS              RESTARTS   AGE\r\n",
      "prediction-codegen-wiu69   1/1       Running             0          56m\r\n",
      "prediction-codegen-y7ovp   1/1       Running             0          7m\r\n",
      "prediction-pmml-14s4b      0/1       ContainerCreating   0          3s\r\n",
      "prediction-pmml-fwric      1/1       Running             0          1h\r\n",
      "prediction-pmml-jwh9q      0/1       ContainerCreating   0          3s\r\n",
      "prediction-pmml-l9ksy      0/1       ContainerCreating   0          3s\r\n",
      "prediction-pmml-ndwai      1/1       Running             0          7m\r\n",
      "turbine-g4j7q              1/1       Running             0          1h\r\n",
      "weavescope-app-oh0mh       1/1       Running             0          1h\r\n",
      "weavescope-probe-jwdo4     1/1       Running             0          1h\r\n"
     ]
    }
   ],
   "source": [
    "!kubectl get pod"
   ]
  },
  {
   "cell_type": "code",
   "execution_count": 43,
   "metadata": {
    "collapsed": false
   },
   "outputs": [
    {
     "name": "stdout",
     "output_type": "stream",
     "text": [
      "/bin/sh: 1: /root/pipeline.io/bin/datasticks-deployment-scale-in-predictions.sh: not found\r\n"
     ]
    }
   ],
   "source": [
    "!/root/pipeline.io/bin/datasticks-deployment-scale-in-predictions.sh"
   ]
  },
  {
   "cell_type": "code",
   "execution_count": 44,
   "metadata": {
    "collapsed": false
   },
   "outputs": [
    {
     "name": "stdout",
     "output_type": "stream",
     "text": [
      "NAME                       READY     STATUS              RESTARTS   AGE\r\n",
      "prediction-codegen-wiu69   1/1       Running             0          56m\r\n",
      "prediction-codegen-y7ovp   1/1       Running             0          7m\r\n",
      "prediction-pmml-14s4b      0/1       ContainerCreating   0          3s\r\n",
      "prediction-pmml-fwric      1/1       Running             0          1h\r\n",
      "prediction-pmml-jwh9q      0/1       ContainerCreating   0          3s\r\n",
      "prediction-pmml-l9ksy      0/1       ContainerCreating   0          3s\r\n",
      "prediction-pmml-ndwai      1/1       Running             0          7m\r\n",
      "turbine-g4j7q              1/1       Running             0          1h\r\n",
      "weavescope-app-oh0mh       1/1       Running             0          1h\r\n",
      "weavescope-probe-jwdo4     1/1       Running             0          1h\r\n"
     ]
    }
   ],
   "source": [
    "!kubectl get pod"
   ]
  },
  {
   "cell_type": "markdown",
   "metadata": {},
   "source": [
    "### Google"
   ]
  },
  {
   "cell_type": "code",
   "execution_count": 45,
   "metadata": {
    "collapsed": false
   },
   "outputs": [
    {
     "name": "stdout",
     "output_type": "stream",
     "text": [
      "switched to context \"gcp_k8s_predictions\".\r\n"
     ]
    }
   ],
   "source": [
    "!/root/pipeline.io/bin/pipeline-context-switch-gcp-predictions.sh"
   ]
  },
  {
   "cell_type": "code",
   "execution_count": 46,
   "metadata": {
    "collapsed": false
   },
   "outputs": [
    {
     "name": "stdout",
     "output_type": "stream",
     "text": [
      "NAME                       READY     STATUS              RESTARTS   AGE\r\n",
      "prediction-codegen-gvmko   1/1       Running             0          57m\r\n",
      "prediction-codegen-z8puw   1/1       Running             0          7m\r\n",
      "prediction-pmml-ap34w      0/1       ContainerCreating   0          3s\r\n",
      "prediction-pmml-j08ot      0/1       ContainerCreating   0          3s\r\n",
      "prediction-pmml-jz21l      1/1       Running             0          1h\r\n",
      "prediction-pmml-mbwy1      1/1       Running             0          7m\r\n",
      "prediction-pmml-w7niw      0/1       ContainerCreating   0          3s\r\n",
      "turbine-u6588              1/1       Running             0          1h\r\n",
      "weavescope-app-nrc6o       1/1       Running             0          1h\r\n",
      "weavescope-probe-5rogi     1/1       Running             0          1h\r\n"
     ]
    }
   ],
   "source": [
    "!kubectl get pod"
   ]
  },
  {
   "cell_type": "code",
   "execution_count": 47,
   "metadata": {
    "collapsed": false
   },
   "outputs": [
    {
     "name": "stdout",
     "output_type": "stream",
     "text": [
      "replicationcontroller \"prediction-pmml\" scaled\r\n"
     ]
    }
   ],
   "source": [
    "!/root/pipeline.io/bin/pipeline-deployment-scale-in-predictions.sh"
   ]
  },
  {
   "cell_type": "code",
   "execution_count": 48,
   "metadata": {
    "collapsed": false
   },
   "outputs": [
    {
     "name": "stdout",
     "output_type": "stream",
     "text": [
      "NAME                       READY     STATUS        RESTARTS   AGE\r\n",
      "prediction-codegen-gvmko   1/1       Running       0          57m\r\n",
      "prediction-codegen-z8puw   1/1       Running       0          7m\r\n",
      "prediction-pmml-ap34w      0/1       Terminating   0          4s\r\n",
      "prediction-pmml-j08ot      0/1       Terminating   0          4s\r\n",
      "prediction-pmml-jz21l      1/1       Running       0          1h\r\n",
      "prediction-pmml-mbwy1      1/1       Terminating   0          7m\r\n",
      "prediction-pmml-w7niw      0/1       Terminating   0          4s\r\n",
      "turbine-u6588              1/1       Running       0          1h\r\n",
      "weavescope-app-nrc6o       1/1       Running       0          1h\r\n",
      "weavescope-probe-5rogi     1/1       Running       0          1h\r\n"
     ]
    }
   ],
   "source": [
    "!kubectl get pod"
   ]
  },
  {
   "cell_type": "code",
   "execution_count": 3,
   "metadata": {
    "collapsed": false
   },
   "outputs": [
    {
     "data": {
      "text/html": [
       "<iframe width=100% height=500px src=\"http://airflow.demo.pipeline.io\">"
      ],
      "text/plain": [
       "<IPython.core.display.HTML object>"
      ]
     },
     "metadata": {},
     "output_type": "display_data"
    }
   ],
   "source": [
    "from IPython.display import display, HTML\n",
    "\n",
    "html = '<iframe width=100% height=500px src=\"http://airflow.demo.pipeline.io\">'\n",
    "display(HTML(html))"
   ]
  },
  {
   "cell_type": "code",
   "execution_count": null,
   "metadata": {
    "collapsed": true
   },
   "outputs": [],
   "source": []
  }
 ],
 "metadata": {
  "anaconda-cloud": {},
  "kernelspec": {
   "display_name": "Python [default]",
   "language": "python",
   "name": "python3"
  },
  "language_info": {
   "codemirror_mode": {
    "name": "ipython",
    "version": 3
   },
   "file_extension": ".py",
   "mimetype": "text/x-python",
   "name": "python",
   "nbconvert_exporter": "python",
   "pygments_lexer": "ipython3",
   "version": "3.5.2"
  }
 },
 "nbformat": 4,
 "nbformat_minor": 0
}
